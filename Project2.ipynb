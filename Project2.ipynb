{
  "nbformat": 4,
  "nbformat_minor": 0,
  "metadata": {
    "colab": {
      "name": "Project2.ipynb",
      "provenance": [],
      "mount_file_id": "1BjuHuYOp2lv6m5vePVmdaA_O5nTboN34",
      "authorship_tag": "ABX9TyPuzgqvg9YMuX6IvU31i65M",
      "include_colab_link": true
    },
    "kernelspec": {
      "name": "python3",
      "display_name": "Python 3"
    },
    "language_info": {
      "name": "python"
    }
  },
  "cells": [
    {
      "cell_type": "markdown",
      "metadata": {
        "id": "view-in-github",
        "colab_type": "text"
      },
      "source": [
        "<a href=\"https://colab.research.google.com/github/ialkamal/project2-machine-learning/blob/master/Project2.ipynb\" target=\"_parent\"><img src=\"https://colab.research.google.com/assets/colab-badge.svg\" alt=\"Open In Colab\"/></a>"
      ]
    },
    {
      "cell_type": "markdown",
      "metadata": {
        "id": "ypJ-Ig9eScwI"
      },
      "source": [
        "# Project 2 (core)"
      ]
    },
    {
      "cell_type": "markdown",
      "metadata": {
        "id": "L3MRUIebCz6O"
      },
      "source": [
        "## Imports"
      ]
    },
    {
      "cell_type": "code",
      "metadata": {
        "id": "sGxxktkcSrG8"
      },
      "source": [
        "import pandas as pd\n",
        "import numpy as np\n",
        "import matplotlib.pyplot as plt\n",
        "import seaborn as sns"
      ],
      "execution_count": 101,
      "outputs": []
    },
    {
      "cell_type": "markdown",
      "metadata": {
        "id": "MQ2KECFOCkZ2"
      },
      "source": [
        "## Week 01"
      ]
    },
    {
      "cell_type": "markdown",
      "metadata": {
        "id": "C3dR5kA6SYIt"
      },
      "source": [
        "### Dataset 1"
      ]
    },
    {
      "cell_type": "markdown",
      "metadata": {
        "id": "CCmZJtsHTCsB"
      },
      "source": [
        "Src: https://www.kaggle.com/hellbuoy/car-price-prediction"
      ]
    },
    {
      "cell_type": "markdown",
      "metadata": {
        "id": "MNtg4SMlTFaS"
      },
      "source": [
        "**Description:**  A large data set of different types of cars across the US  market."
      ]
    },
    {
      "cell_type": "markdown",
      "metadata": {
        "id": "RF61ooWKTQYZ"
      },
      "source": [
        "**Target:** Price\n",
        "(*predict the sales price*)"
      ]
    },
    {
      "cell_type": "markdown",
      "metadata": {
        "id": "iMiV0Yp_Tg-Z"
      },
      "source": [
        "**Type:** Regression"
      ]
    },
    {
      "cell_type": "code",
      "metadata": {
        "colab": {
          "base_uri": "https://localhost:8080/",
          "height": 278
        },
        "id": "qmBaxhm0SUb2",
        "outputId": "9f52a733-2bdd-4959-9473-10f257b9f4ed"
      },
      "source": [
        "ds1 = pd.read_csv(\"/content/drive/MyDrive/Coding Dojo/Machine_Learning/CarPrice_Assignment.csv\")\n",
        "ds1.head()"
      ],
      "execution_count": 2,
      "outputs": [
        {
          "output_type": "execute_result",
          "data": {
            "text/html": [
              "<div>\n",
              "<style scoped>\n",
              "    .dataframe tbody tr th:only-of-type {\n",
              "        vertical-align: middle;\n",
              "    }\n",
              "\n",
              "    .dataframe tbody tr th {\n",
              "        vertical-align: top;\n",
              "    }\n",
              "\n",
              "    .dataframe thead th {\n",
              "        text-align: right;\n",
              "    }\n",
              "</style>\n",
              "<table border=\"1\" class=\"dataframe\">\n",
              "  <thead>\n",
              "    <tr style=\"text-align: right;\">\n",
              "      <th></th>\n",
              "      <th>car_ID</th>\n",
              "      <th>symboling</th>\n",
              "      <th>CarName</th>\n",
              "      <th>fueltype</th>\n",
              "      <th>aspiration</th>\n",
              "      <th>doornumber</th>\n",
              "      <th>carbody</th>\n",
              "      <th>drivewheel</th>\n",
              "      <th>enginelocation</th>\n",
              "      <th>wheelbase</th>\n",
              "      <th>carlength</th>\n",
              "      <th>carwidth</th>\n",
              "      <th>carheight</th>\n",
              "      <th>curbweight</th>\n",
              "      <th>enginetype</th>\n",
              "      <th>cylindernumber</th>\n",
              "      <th>enginesize</th>\n",
              "      <th>fuelsystem</th>\n",
              "      <th>boreratio</th>\n",
              "      <th>stroke</th>\n",
              "      <th>compressionratio</th>\n",
              "      <th>horsepower</th>\n",
              "      <th>peakrpm</th>\n",
              "      <th>citympg</th>\n",
              "      <th>highwaympg</th>\n",
              "      <th>price</th>\n",
              "    </tr>\n",
              "  </thead>\n",
              "  <tbody>\n",
              "    <tr>\n",
              "      <th>0</th>\n",
              "      <td>1</td>\n",
              "      <td>3</td>\n",
              "      <td>alfa-romero giulia</td>\n",
              "      <td>gas</td>\n",
              "      <td>std</td>\n",
              "      <td>two</td>\n",
              "      <td>convertible</td>\n",
              "      <td>rwd</td>\n",
              "      <td>front</td>\n",
              "      <td>88.6</td>\n",
              "      <td>168.8</td>\n",
              "      <td>64.1</td>\n",
              "      <td>48.8</td>\n",
              "      <td>2548</td>\n",
              "      <td>dohc</td>\n",
              "      <td>four</td>\n",
              "      <td>130</td>\n",
              "      <td>mpfi</td>\n",
              "      <td>3.47</td>\n",
              "      <td>2.68</td>\n",
              "      <td>9.0</td>\n",
              "      <td>111</td>\n",
              "      <td>5000</td>\n",
              "      <td>21</td>\n",
              "      <td>27</td>\n",
              "      <td>13495.0</td>\n",
              "    </tr>\n",
              "    <tr>\n",
              "      <th>1</th>\n",
              "      <td>2</td>\n",
              "      <td>3</td>\n",
              "      <td>alfa-romero stelvio</td>\n",
              "      <td>gas</td>\n",
              "      <td>std</td>\n",
              "      <td>two</td>\n",
              "      <td>convertible</td>\n",
              "      <td>rwd</td>\n",
              "      <td>front</td>\n",
              "      <td>88.6</td>\n",
              "      <td>168.8</td>\n",
              "      <td>64.1</td>\n",
              "      <td>48.8</td>\n",
              "      <td>2548</td>\n",
              "      <td>dohc</td>\n",
              "      <td>four</td>\n",
              "      <td>130</td>\n",
              "      <td>mpfi</td>\n",
              "      <td>3.47</td>\n",
              "      <td>2.68</td>\n",
              "      <td>9.0</td>\n",
              "      <td>111</td>\n",
              "      <td>5000</td>\n",
              "      <td>21</td>\n",
              "      <td>27</td>\n",
              "      <td>16500.0</td>\n",
              "    </tr>\n",
              "    <tr>\n",
              "      <th>2</th>\n",
              "      <td>3</td>\n",
              "      <td>1</td>\n",
              "      <td>alfa-romero Quadrifoglio</td>\n",
              "      <td>gas</td>\n",
              "      <td>std</td>\n",
              "      <td>two</td>\n",
              "      <td>hatchback</td>\n",
              "      <td>rwd</td>\n",
              "      <td>front</td>\n",
              "      <td>94.5</td>\n",
              "      <td>171.2</td>\n",
              "      <td>65.5</td>\n",
              "      <td>52.4</td>\n",
              "      <td>2823</td>\n",
              "      <td>ohcv</td>\n",
              "      <td>six</td>\n",
              "      <td>152</td>\n",
              "      <td>mpfi</td>\n",
              "      <td>2.68</td>\n",
              "      <td>3.47</td>\n",
              "      <td>9.0</td>\n",
              "      <td>154</td>\n",
              "      <td>5000</td>\n",
              "      <td>19</td>\n",
              "      <td>26</td>\n",
              "      <td>16500.0</td>\n",
              "    </tr>\n",
              "    <tr>\n",
              "      <th>3</th>\n",
              "      <td>4</td>\n",
              "      <td>2</td>\n",
              "      <td>audi 100 ls</td>\n",
              "      <td>gas</td>\n",
              "      <td>std</td>\n",
              "      <td>four</td>\n",
              "      <td>sedan</td>\n",
              "      <td>fwd</td>\n",
              "      <td>front</td>\n",
              "      <td>99.8</td>\n",
              "      <td>176.6</td>\n",
              "      <td>66.2</td>\n",
              "      <td>54.3</td>\n",
              "      <td>2337</td>\n",
              "      <td>ohc</td>\n",
              "      <td>four</td>\n",
              "      <td>109</td>\n",
              "      <td>mpfi</td>\n",
              "      <td>3.19</td>\n",
              "      <td>3.40</td>\n",
              "      <td>10.0</td>\n",
              "      <td>102</td>\n",
              "      <td>5500</td>\n",
              "      <td>24</td>\n",
              "      <td>30</td>\n",
              "      <td>13950.0</td>\n",
              "    </tr>\n",
              "    <tr>\n",
              "      <th>4</th>\n",
              "      <td>5</td>\n",
              "      <td>2</td>\n",
              "      <td>audi 100ls</td>\n",
              "      <td>gas</td>\n",
              "      <td>std</td>\n",
              "      <td>four</td>\n",
              "      <td>sedan</td>\n",
              "      <td>4wd</td>\n",
              "      <td>front</td>\n",
              "      <td>99.4</td>\n",
              "      <td>176.6</td>\n",
              "      <td>66.4</td>\n",
              "      <td>54.3</td>\n",
              "      <td>2824</td>\n",
              "      <td>ohc</td>\n",
              "      <td>five</td>\n",
              "      <td>136</td>\n",
              "      <td>mpfi</td>\n",
              "      <td>3.19</td>\n",
              "      <td>3.40</td>\n",
              "      <td>8.0</td>\n",
              "      <td>115</td>\n",
              "      <td>5500</td>\n",
              "      <td>18</td>\n",
              "      <td>22</td>\n",
              "      <td>17450.0</td>\n",
              "    </tr>\n",
              "  </tbody>\n",
              "</table>\n",
              "</div>"
            ],
            "text/plain": [
              "   car_ID  symboling                   CarName  ... citympg highwaympg    price\n",
              "0       1          3        alfa-romero giulia  ...      21         27  13495.0\n",
              "1       2          3       alfa-romero stelvio  ...      21         27  16500.0\n",
              "2       3          1  alfa-romero Quadrifoglio  ...      19         26  16500.0\n",
              "3       4          2               audi 100 ls  ...      24         30  13950.0\n",
              "4       5          2                audi 100ls  ...      18         22  17450.0\n",
              "\n",
              "[5 rows x 26 columns]"
            ]
          },
          "metadata": {},
          "execution_count": 2
        }
      ]
    },
    {
      "cell_type": "code",
      "metadata": {
        "colab": {
          "base_uri": "https://localhost:8080/"
        },
        "id": "vw6p8oliWY-R",
        "outputId": "3a5ed20b-ea61-4824-98a2-a697256c04c0"
      },
      "source": [
        "ds1.shape"
      ],
      "execution_count": 3,
      "outputs": [
        {
          "output_type": "execute_result",
          "data": {
            "text/plain": [
              "(205, 26)"
            ]
          },
          "metadata": {},
          "execution_count": 3
        }
      ]
    },
    {
      "cell_type": "markdown",
      "metadata": {
        "id": "rrF2uTY9WddK"
      },
      "source": [
        "**Features:** 26"
      ]
    },
    {
      "cell_type": "markdown",
      "metadata": {
        "id": "zslI0aWKSVWO"
      },
      "source": [
        "**Rows:** 205"
      ]
    },
    {
      "cell_type": "code",
      "metadata": {
        "colab": {
          "base_uri": "https://localhost:8080/"
        },
        "id": "LRQLzzjvW6Jq",
        "outputId": "bf9fc657-1028-42ea-fd78-6e126d404b98"
      },
      "source": [
        "ds1.info()"
      ],
      "execution_count": 4,
      "outputs": [
        {
          "output_type": "stream",
          "name": "stdout",
          "text": [
            "<class 'pandas.core.frame.DataFrame'>\n",
            "RangeIndex: 205 entries, 0 to 204\n",
            "Data columns (total 26 columns):\n",
            " #   Column            Non-Null Count  Dtype  \n",
            "---  ------            --------------  -----  \n",
            " 0   car_ID            205 non-null    int64  \n",
            " 1   symboling         205 non-null    int64  \n",
            " 2   CarName           205 non-null    object \n",
            " 3   fueltype          205 non-null    object \n",
            " 4   aspiration        205 non-null    object \n",
            " 5   doornumber        205 non-null    object \n",
            " 6   carbody           205 non-null    object \n",
            " 7   drivewheel        205 non-null    object \n",
            " 8   enginelocation    205 non-null    object \n",
            " 9   wheelbase         205 non-null    float64\n",
            " 10  carlength         205 non-null    float64\n",
            " 11  carwidth          205 non-null    float64\n",
            " 12  carheight         205 non-null    float64\n",
            " 13  curbweight        205 non-null    int64  \n",
            " 14  enginetype        205 non-null    object \n",
            " 15  cylindernumber    205 non-null    object \n",
            " 16  enginesize        205 non-null    int64  \n",
            " 17  fuelsystem        205 non-null    object \n",
            " 18  boreratio         205 non-null    float64\n",
            " 19  stroke            205 non-null    float64\n",
            " 20  compressionratio  205 non-null    float64\n",
            " 21  horsepower        205 non-null    int64  \n",
            " 22  peakrpm           205 non-null    int64  \n",
            " 23  citympg           205 non-null    int64  \n",
            " 24  highwaympg        205 non-null    int64  \n",
            " 25  price             205 non-null    float64\n",
            "dtypes: float64(8), int64(8), object(10)\n",
            "memory usage: 41.8+ KB\n"
          ]
        }
      ]
    },
    {
      "cell_type": "code",
      "metadata": {
        "colab": {
          "base_uri": "https://localhost:8080/"
        },
        "id": "bHKUhEQpWq3H",
        "outputId": "8d21ee4b-e238-433b-88d5-c1766bd9f022"
      },
      "source": [
        "ds1.duplicated().any()"
      ],
      "execution_count": 5,
      "outputs": [
        {
          "output_type": "execute_result",
          "data": {
            "text/plain": [
              "False"
            ]
          },
          "metadata": {},
          "execution_count": 5
        }
      ]
    },
    {
      "cell_type": "code",
      "metadata": {
        "colab": {
          "base_uri": "https://localhost:8080/"
        },
        "id": "zkShzmuEWvaL",
        "outputId": "5d4222f6-3861-4c56-ad58-eb181f3a94c8"
      },
      "source": [
        "ds1.isna().any()"
      ],
      "execution_count": 6,
      "outputs": [
        {
          "output_type": "execute_result",
          "data": {
            "text/plain": [
              "car_ID              False\n",
              "symboling           False\n",
              "CarName             False\n",
              "fueltype            False\n",
              "aspiration          False\n",
              "doornumber          False\n",
              "carbody             False\n",
              "drivewheel          False\n",
              "enginelocation      False\n",
              "wheelbase           False\n",
              "carlength           False\n",
              "carwidth            False\n",
              "carheight           False\n",
              "curbweight          False\n",
              "enginetype          False\n",
              "cylindernumber      False\n",
              "enginesize          False\n",
              "fuelsystem          False\n",
              "boreratio           False\n",
              "stroke              False\n",
              "compressionratio    False\n",
              "horsepower          False\n",
              "peakrpm             False\n",
              "citympg             False\n",
              "highwaympg          False\n",
              "price               False\n",
              "dtype: bool"
            ]
          },
          "metadata": {},
          "execution_count": 6
        }
      ]
    },
    {
      "cell_type": "markdown",
      "metadata": {
        "id": "Y8AGgufNSXUO"
      },
      "source": [
        "I believe the problem is straightforward and can be modeled well."
      ]
    },
    {
      "cell_type": "markdown",
      "metadata": {
        "id": "s2gC4NoWXLqK"
      },
      "source": [
        "### Dataset 2"
      ]
    },
    {
      "cell_type": "markdown",
      "metadata": {
        "id": "DhZgHWg8XRUs"
      },
      "source": [
        "Src: https://www.kaggle.com/andrewmvd/multi-organ-failure-prediction"
      ]
    },
    {
      "cell_type": "markdown",
      "metadata": {
        "id": "JBd91gQOXXnW"
      },
      "source": [
        ""
      ]
    },
    {
      "cell_type": "markdown",
      "metadata": {
        "id": "7osC_hM5XlwG"
      },
      "source": [
        "**Description:**  The most common cause of death for patients admitted to a intensive care unit (ICU) is a clinical condition known as the multiple organ dysfunction syndrome (MODS), multi-organ failure, multiple systems organ failure, or through some of its more prominent manifestations, as the acute respiratory distress syndrome (ARDS) or disseminated intravascular coagulation (DIC), MODS is as poorly understood as it is prevalent.\n",
        "\n",
        "This dataset contains data from 61 patients that entered the ICU due to trauma related reasons with 196 variables from physiological signals to severity scores (i.e NISS: New Injury Severity Score). The target variable (named label) is fairly balanced for outcomes of development of Multi Organ Failure or its absence."
      ]
    },
    {
      "cell_type": "markdown",
      "metadata": {
        "id": "AXdCZLFfXuoS"
      },
      "source": [
        "**Target:** named label (development of Multi Organ Failure or its absence)"
      ]
    },
    {
      "cell_type": "markdown",
      "metadata": {
        "id": "LOaaIpugX6JH"
      },
      "source": [
        "**Type:** Classification"
      ]
    },
    {
      "cell_type": "code",
      "metadata": {
        "colab": {
          "base_uri": "https://localhost:8080/",
          "height": 307
        },
        "id": "g9ftu4WMXXM_",
        "outputId": "777b94bd-469e-4638-93b7-60f7a4b0c738"
      },
      "source": [
        "ds2 = pd.read_csv(\"/content/drive/MyDrive/Coding Dojo/Machine_Learning/mods_dataset.csv\")\n",
        "ds2.head()"
      ],
      "execution_count": 7,
      "outputs": [
        {
          "output_type": "execute_result",
          "data": {
            "text/html": [
              "<div>\n",
              "<style scoped>\n",
              "    .dataframe tbody tr th:only-of-type {\n",
              "        vertical-align: middle;\n",
              "    }\n",
              "\n",
              "    .dataframe tbody tr th {\n",
              "        vertical-align: top;\n",
              "    }\n",
              "\n",
              "    .dataframe thead th {\n",
              "        text-align: right;\n",
              "    }\n",
              "</style>\n",
              "<table border=\"1\" class=\"dataframe\">\n",
              "  <thead>\n",
              "    <tr style=\"text-align: right;\">\n",
              "      <th></th>\n",
              "      <th>ISS</th>\n",
              "      <th>NISS</th>\n",
              "      <th>PS14</th>\n",
              "      <th>Age</th>\n",
              "      <th>WBC [109/L]_T1</th>\n",
              "      <th>NEUT [109/L]_T1</th>\n",
              "      <th>LYMPH [109/L]_T1</th>\n",
              "      <th>MONO [109/L]_T1</th>\n",
              "      <th>IG [109/L]_T1</th>\n",
              "      <th>NEUT %_T1</th>\n",
              "      <th>LYMPH %_T1</th>\n",
              "      <th>MONO %_T1</th>\n",
              "      <th>IG %_T1</th>\n",
              "      <th>ROS TO PMA (%)_T1</th>\n",
              "      <th>ROS TO PMA (MFI)_T1</th>\n",
              "      <th>CD62L (MedFI)_T1</th>\n",
              "      <th>CD88 (MedFI)_T1</th>\n",
              "      <th>CD16 (MedFI)...23_T1</th>\n",
              "      <th>CD11B (MedFI)_T1</th>\n",
              "      <th>CXCR1 (MedFI)_T1</th>\n",
              "      <th>CXCR2 (MedFI)_T1</th>\n",
              "      <th>CD11B + FMLF (MedFI)_T1</th>\n",
              "      <th>Increase_CD11b + fMLF (MedFI)_T1</th>\n",
              "      <th>CD63 (MedFI)_T1</th>\n",
              "      <th>CD62L + FMLF (MedFI)_T1</th>\n",
              "      <th>Decrease_CD62L + FMLF (MedFI)_T1</th>\n",
              "      <th>% CD16BRIGHT CD62LDIM_T1</th>\n",
              "      <th>CD16BRIGHT CD62LDIM [106/L]_T1</th>\n",
              "      <th>CD16 % +ve_T1</th>\n",
              "      <th>CD16 (MedFI)...35_T1</th>\n",
              "      <th>% CD14+ 16-_T1</th>\n",
              "      <th>% CD14+ 16+_T1</th>\n",
              "      <th>CD14+ 16- (x106/L)_T1</th>\n",
              "      <th>CD14+ 16+ (x106/L)_T1</th>\n",
              "      <th>% HLA-DR +ve_T1</th>\n",
              "      <th>HLA-DR (MedFI)_T1</th>\n",
              "      <th>% CD14+ HLA-DRLow/Neg_T1</th>\n",
              "      <th>CD14+ HLA-DRLow/Neg (x106/L)_T1</th>\n",
              "      <th>% TLR4 +ve_T1</th>\n",
              "      <th>TLR4 (MedFI)_T1</th>\n",
              "      <th>...</th>\n",
              "      <th>CD16 (MedFI)...27_T3</th>\n",
              "      <th>% CD14+ 16-_T3</th>\n",
              "      <th>% CD14+ 16+_T3</th>\n",
              "      <th>CD14+ 16- (x106/L)_T3</th>\n",
              "      <th>CD14+ 16+ (x106/L)_T3</th>\n",
              "      <th>% HLA-DR +ve_T3</th>\n",
              "      <th>HLA-DR (MedFI)_T3</th>\n",
              "      <th>% CD14+ HLA-DRLow/Neg_T3</th>\n",
              "      <th>CD14+ HLA-DRLow/Neg (x106/L)_T3</th>\n",
              "      <th>% TLR4 +ve_T3</th>\n",
              "      <th>TLR4 (MedFI)_T3</th>\n",
              "      <th>% TLR2 +ve_T3</th>\n",
              "      <th>TLR2 (MedFI)_T3</th>\n",
              "      <th>% CD86 +ve_T3</th>\n",
              "      <th>CD86 (MedFI)_T3</th>\n",
              "      <th>B cells (x106/L)_T3</th>\n",
              "      <th>NK cells (x106/L)_T3</th>\n",
              "      <th>CD56DIM NK cells (x106/L)_T3</th>\n",
              "      <th>CD56BRIGHT NK cells (x106/L)_T3</th>\n",
              "      <th>NKT cells (x106/L)_T3</th>\n",
              "      <th>CD3+ (106/L)_T3</th>\n",
              "      <th>CD3+ 4+ (106/L)_T3</th>\n",
              "      <th>Term_Helper_T3</th>\n",
              "      <th>Naive_Helper_T3</th>\n",
              "      <th>Central_Mem_Helper_T3</th>\n",
              "      <th>Eff_Mem_Helper_T3</th>\n",
              "      <th>CD3+ 8+ (106/L)_T3</th>\n",
              "      <th>Term_Cyto_T3</th>\n",
              "      <th>Naive_Cyto_T3</th>\n",
              "      <th>Central_Mem_Cyto_T3</th>\n",
              "      <th>Eff_Mem_Cyto_T3</th>\n",
              "      <th>IL1-Ra_T3</th>\n",
              "      <th>IL-6_T3</th>\n",
              "      <th>IL-8_T3</th>\n",
              "      <th>IL-10_T3</th>\n",
              "      <th>G-CSF_T3</th>\n",
              "      <th>MCP-1_T3</th>\n",
              "      <th>TNF-A_T3</th>\n",
              "      <th>Cortisol (ng/ml)_T3</th>\n",
              "      <th>Label</th>\n",
              "    </tr>\n",
              "  </thead>\n",
              "  <tbody>\n",
              "    <tr>\n",
              "      <th>0</th>\n",
              "      <td>11</td>\n",
              "      <td>11</td>\n",
              "      <td>97.21493</td>\n",
              "      <td>41</td>\n",
              "      <td>26.16</td>\n",
              "      <td>21.95</td>\n",
              "      <td>1.60</td>\n",
              "      <td>2.58</td>\n",
              "      <td>0.10</td>\n",
              "      <td>83.9</td>\n",
              "      <td>6.1</td>\n",
              "      <td>9.9</td>\n",
              "      <td>0.4</td>\n",
              "      <td>100.0</td>\n",
              "      <td>169153.0</td>\n",
              "      <td>16455.0</td>\n",
              "      <td>62388.0</td>\n",
              "      <td>32057.0</td>\n",
              "      <td>38432.0</td>\n",
              "      <td>10948.0</td>\n",
              "      <td>12099.0</td>\n",
              "      <td>126850.0</td>\n",
              "      <td>3.300635</td>\n",
              "      <td>972.0</td>\n",
              "      <td>1851.0</td>\n",
              "      <td>8.889789</td>\n",
              "      <td>4.2</td>\n",
              "      <td>922.00</td>\n",
              "      <td>3.0</td>\n",
              "      <td>0.0</td>\n",
              "      <td>98.48</td>\n",
              "      <td>1.52</td>\n",
              "      <td>2540.0</td>\n",
              "      <td>40.0</td>\n",
              "      <td>96.0</td>\n",
              "      <td>63.0</td>\n",
              "      <td>9.48</td>\n",
              "      <td>245.000</td>\n",
              "      <td>38.0</td>\n",
              "      <td>6.0</td>\n",
              "      <td>...</td>\n",
              "      <td>2.0</td>\n",
              "      <td>88.02</td>\n",
              "      <td>11.98</td>\n",
              "      <td>1223.0</td>\n",
              "      <td>167.0</td>\n",
              "      <td>89.0</td>\n",
              "      <td>41.0</td>\n",
              "      <td>22.56</td>\n",
              "      <td>314.000</td>\n",
              "      <td>15.0</td>\n",
              "      <td>3.0</td>\n",
              "      <td>100.0</td>\n",
              "      <td>120.0</td>\n",
              "      <td>97.0</td>\n",
              "      <td>35.0</td>\n",
              "      <td>124.0</td>\n",
              "      <td>557.0</td>\n",
              "      <td>544.0</td>\n",
              "      <td>13.0</td>\n",
              "      <td>19.0</td>\n",
              "      <td>1130.0</td>\n",
              "      <td>773.0</td>\n",
              "      <td>21.0</td>\n",
              "      <td>335.0</td>\n",
              "      <td>221.0</td>\n",
              "      <td>196.0</td>\n",
              "      <td>283.0</td>\n",
              "      <td>118.0</td>\n",
              "      <td>82.0</td>\n",
              "      <td>5.0</td>\n",
              "      <td>78.0</td>\n",
              "      <td>NaN</td>\n",
              "      <td>NaN</td>\n",
              "      <td>NaN</td>\n",
              "      <td>NaN</td>\n",
              "      <td>NaN</td>\n",
              "      <td>NaN</td>\n",
              "      <td>NaN</td>\n",
              "      <td>180.6876</td>\n",
              "      <td>N</td>\n",
              "    </tr>\n",
              "    <tr>\n",
              "      <th>1</th>\n",
              "      <td>9</td>\n",
              "      <td>22</td>\n",
              "      <td>99.59795</td>\n",
              "      <td>22</td>\n",
              "      <td>8.28</td>\n",
              "      <td>4.21</td>\n",
              "      <td>3.53</td>\n",
              "      <td>0.33</td>\n",
              "      <td>0.04</td>\n",
              "      <td>50.9</td>\n",
              "      <td>42.6</td>\n",
              "      <td>3.9</td>\n",
              "      <td>0.5</td>\n",
              "      <td>99.0</td>\n",
              "      <td>164974.0</td>\n",
              "      <td>19617.0</td>\n",
              "      <td>96814.0</td>\n",
              "      <td>152209.0</td>\n",
              "      <td>18353.0</td>\n",
              "      <td>13047.0</td>\n",
              "      <td>28100.0</td>\n",
              "      <td>105150.0</td>\n",
              "      <td>5.730000</td>\n",
              "      <td>2828.0</td>\n",
              "      <td>1030.0</td>\n",
              "      <td>19.050000</td>\n",
              "      <td>3.9</td>\n",
              "      <td>164.19</td>\n",
              "      <td>4.0</td>\n",
              "      <td>1.0</td>\n",
              "      <td>96.99</td>\n",
              "      <td>3.01</td>\n",
              "      <td>320.0</td>\n",
              "      <td>10.0</td>\n",
              "      <td>99.0</td>\n",
              "      <td>159.0</td>\n",
              "      <td>6.41</td>\n",
              "      <td>21.153</td>\n",
              "      <td>51.0</td>\n",
              "      <td>8.0</td>\n",
              "      <td>...</td>\n",
              "      <td>0.0</td>\n",
              "      <td>86.32</td>\n",
              "      <td>13.68</td>\n",
              "      <td>604.0</td>\n",
              "      <td>96.0</td>\n",
              "      <td>93.0</td>\n",
              "      <td>40.0</td>\n",
              "      <td>51.52</td>\n",
              "      <td>360.640</td>\n",
              "      <td>38.0</td>\n",
              "      <td>6.0</td>\n",
              "      <td>100.0</td>\n",
              "      <td>144.0</td>\n",
              "      <td>95.0</td>\n",
              "      <td>39.0</td>\n",
              "      <td>194.0</td>\n",
              "      <td>66.0</td>\n",
              "      <td>58.0</td>\n",
              "      <td>8.0</td>\n",
              "      <td>140.0</td>\n",
              "      <td>754.0</td>\n",
              "      <td>326.0</td>\n",
              "      <td>3.0</td>\n",
              "      <td>200.0</td>\n",
              "      <td>90.0</td>\n",
              "      <td>33.0</td>\n",
              "      <td>401.0</td>\n",
              "      <td>185.0</td>\n",
              "      <td>178.0</td>\n",
              "      <td>5.0</td>\n",
              "      <td>33.0</td>\n",
              "      <td>237.32</td>\n",
              "      <td>75.04</td>\n",
              "      <td>66.47</td>\n",
              "      <td>59.20</td>\n",
              "      <td>88.73</td>\n",
              "      <td>2.89</td>\n",
              "      <td>39.96</td>\n",
              "      <td>133.6386</td>\n",
              "      <td>Y</td>\n",
              "    </tr>\n",
              "    <tr>\n",
              "      <th>2</th>\n",
              "      <td>14</td>\n",
              "      <td>17</td>\n",
              "      <td>99.10462</td>\n",
              "      <td>47</td>\n",
              "      <td>9.24</td>\n",
              "      <td>4.52</td>\n",
              "      <td>3.73</td>\n",
              "      <td>0.45</td>\n",
              "      <td>0.16</td>\n",
              "      <td>49.0</td>\n",
              "      <td>40.3</td>\n",
              "      <td>4.9</td>\n",
              "      <td>1.7</td>\n",
              "      <td>68.0</td>\n",
              "      <td>21583.0</td>\n",
              "      <td>25915.0</td>\n",
              "      <td>76704.0</td>\n",
              "      <td>144836.0</td>\n",
              "      <td>34093.0</td>\n",
              "      <td>16501.0</td>\n",
              "      <td>19732.0</td>\n",
              "      <td>105097.0</td>\n",
              "      <td>3.100000</td>\n",
              "      <td>2974.0</td>\n",
              "      <td>4009.0</td>\n",
              "      <td>6.464206</td>\n",
              "      <td>4.7</td>\n",
              "      <td>212.44</td>\n",
              "      <td>NaN</td>\n",
              "      <td>NaN</td>\n",
              "      <td>NaN</td>\n",
              "      <td>NaN</td>\n",
              "      <td>NaN</td>\n",
              "      <td>NaN</td>\n",
              "      <td>NaN</td>\n",
              "      <td>NaN</td>\n",
              "      <td>NaN</td>\n",
              "      <td>NaN</td>\n",
              "      <td>NaN</td>\n",
              "      <td>NaN</td>\n",
              "      <td>...</td>\n",
              "      <td>NaN</td>\n",
              "      <td>NaN</td>\n",
              "      <td>NaN</td>\n",
              "      <td>NaN</td>\n",
              "      <td>NaN</td>\n",
              "      <td>NaN</td>\n",
              "      <td>NaN</td>\n",
              "      <td>NaN</td>\n",
              "      <td>NaN</td>\n",
              "      <td>NaN</td>\n",
              "      <td>NaN</td>\n",
              "      <td>NaN</td>\n",
              "      <td>NaN</td>\n",
              "      <td>NaN</td>\n",
              "      <td>NaN</td>\n",
              "      <td>NaN</td>\n",
              "      <td>NaN</td>\n",
              "      <td>NaN</td>\n",
              "      <td>NaN</td>\n",
              "      <td>NaN</td>\n",
              "      <td>NaN</td>\n",
              "      <td>NaN</td>\n",
              "      <td>NaN</td>\n",
              "      <td>NaN</td>\n",
              "      <td>NaN</td>\n",
              "      <td>NaN</td>\n",
              "      <td>NaN</td>\n",
              "      <td>NaN</td>\n",
              "      <td>NaN</td>\n",
              "      <td>NaN</td>\n",
              "      <td>NaN</td>\n",
              "      <td>179.18</td>\n",
              "      <td>34.76</td>\n",
              "      <td>58.45</td>\n",
              "      <td>171.43</td>\n",
              "      <td>84.37</td>\n",
              "      <td>0.01</td>\n",
              "      <td>85.15</td>\n",
              "      <td>181.1892</td>\n",
              "      <td>N</td>\n",
              "    </tr>\n",
              "    <tr>\n",
              "      <th>3</th>\n",
              "      <td>4</td>\n",
              "      <td>12</td>\n",
              "      <td>99.85114</td>\n",
              "      <td>38</td>\n",
              "      <td>11.54</td>\n",
              "      <td>6.37</td>\n",
              "      <td>4.18</td>\n",
              "      <td>0.65</td>\n",
              "      <td>0.09</td>\n",
              "      <td>55.2</td>\n",
              "      <td>36.2</td>\n",
              "      <td>5.6</td>\n",
              "      <td>0.8</td>\n",
              "      <td>95.0</td>\n",
              "      <td>75144.0</td>\n",
              "      <td>25272.0</td>\n",
              "      <td>103145.0</td>\n",
              "      <td>182530.0</td>\n",
              "      <td>15346.0</td>\n",
              "      <td>17521.0</td>\n",
              "      <td>28698.0</td>\n",
              "      <td>59486.0</td>\n",
              "      <td>3.880000</td>\n",
              "      <td>4298.0</td>\n",
              "      <td>NaN</td>\n",
              "      <td>NaN</td>\n",
              "      <td>3.6</td>\n",
              "      <td>229.32</td>\n",
              "      <td>16.0</td>\n",
              "      <td>1.0</td>\n",
              "      <td>87.61</td>\n",
              "      <td>12.39</td>\n",
              "      <td>570.0</td>\n",
              "      <td>80.0</td>\n",
              "      <td>99.0</td>\n",
              "      <td>249.0</td>\n",
              "      <td>9.58</td>\n",
              "      <td>62.270</td>\n",
              "      <td>64.0</td>\n",
              "      <td>11.0</td>\n",
              "      <td>...</td>\n",
              "      <td>0.0</td>\n",
              "      <td>84.68</td>\n",
              "      <td>14.88</td>\n",
              "      <td>570.0</td>\n",
              "      <td>100.0</td>\n",
              "      <td>87.0</td>\n",
              "      <td>29.0</td>\n",
              "      <td>69.35</td>\n",
              "      <td>464.645</td>\n",
              "      <td>48.0</td>\n",
              "      <td>8.0</td>\n",
              "      <td>100.0</td>\n",
              "      <td>173.0</td>\n",
              "      <td>77.0</td>\n",
              "      <td>41.0</td>\n",
              "      <td>NaN</td>\n",
              "      <td>NaN</td>\n",
              "      <td>NaN</td>\n",
              "      <td>NaN</td>\n",
              "      <td>NaN</td>\n",
              "      <td>416.0</td>\n",
              "      <td>257.0</td>\n",
              "      <td>3.0</td>\n",
              "      <td>93.0</td>\n",
              "      <td>97.0</td>\n",
              "      <td>64.0</td>\n",
              "      <td>130.0</td>\n",
              "      <td>20.0</td>\n",
              "      <td>45.0</td>\n",
              "      <td>27.0</td>\n",
              "      <td>38.0</td>\n",
              "      <td>1643.40</td>\n",
              "      <td>1353.66</td>\n",
              "      <td>193.49</td>\n",
              "      <td>2100.26</td>\n",
              "      <td>292.98</td>\n",
              "      <td>646.47</td>\n",
              "      <td>1267.07</td>\n",
              "      <td>194.7159</td>\n",
              "      <td>N</td>\n",
              "    </tr>\n",
              "    <tr>\n",
              "      <th>4</th>\n",
              "      <td>24</td>\n",
              "      <td>34</td>\n",
              "      <td>87.32603</td>\n",
              "      <td>78</td>\n",
              "      <td>17.43</td>\n",
              "      <td>12.48</td>\n",
              "      <td>3.46</td>\n",
              "      <td>1.10</td>\n",
              "      <td>0.38</td>\n",
              "      <td>71.7</td>\n",
              "      <td>19.8</td>\n",
              "      <td>6.3</td>\n",
              "      <td>2.2</td>\n",
              "      <td>100.0</td>\n",
              "      <td>186728.0</td>\n",
              "      <td>19220.0</td>\n",
              "      <td>47484.0</td>\n",
              "      <td>152384.0</td>\n",
              "      <td>83069.0</td>\n",
              "      <td>13416.0</td>\n",
              "      <td>11981.0</td>\n",
              "      <td>135886.0</td>\n",
              "      <td>1.635821</td>\n",
              "      <td>1003.0</td>\n",
              "      <td>2627.0</td>\n",
              "      <td>7.316330</td>\n",
              "      <td>17.5</td>\n",
              "      <td>2184.00</td>\n",
              "      <td>5.0</td>\n",
              "      <td>0.0</td>\n",
              "      <td>95.36</td>\n",
              "      <td>4.64</td>\n",
              "      <td>1049.0</td>\n",
              "      <td>51.0</td>\n",
              "      <td>99.0</td>\n",
              "      <td>178.0</td>\n",
              "      <td>7.48</td>\n",
              "      <td>82.000</td>\n",
              "      <td>45.0</td>\n",
              "      <td>8.0</td>\n",
              "      <td>...</td>\n",
              "      <td>0.0</td>\n",
              "      <td>84.76</td>\n",
              "      <td>15.24</td>\n",
              "      <td>704.0</td>\n",
              "      <td>126.0</td>\n",
              "      <td>76.0</td>\n",
              "      <td>27.0</td>\n",
              "      <td>57.60</td>\n",
              "      <td>478.000</td>\n",
              "      <td>33.0</td>\n",
              "      <td>5.0</td>\n",
              "      <td>100.0</td>\n",
              "      <td>129.0</td>\n",
              "      <td>91.0</td>\n",
              "      <td>35.0</td>\n",
              "      <td>168.0</td>\n",
              "      <td>157.0</td>\n",
              "      <td>153.0</td>\n",
              "      <td>4.0</td>\n",
              "      <td>13.0</td>\n",
              "      <td>777.0</td>\n",
              "      <td>591.0</td>\n",
              "      <td>2.0</td>\n",
              "      <td>188.0</td>\n",
              "      <td>311.0</td>\n",
              "      <td>90.0</td>\n",
              "      <td>193.0</td>\n",
              "      <td>27.0</td>\n",
              "      <td>19.0</td>\n",
              "      <td>80.0</td>\n",
              "      <td>67.0</td>\n",
              "      <td>NaN</td>\n",
              "      <td>NaN</td>\n",
              "      <td>NaN</td>\n",
              "      <td>NaN</td>\n",
              "      <td>NaN</td>\n",
              "      <td>NaN</td>\n",
              "      <td>NaN</td>\n",
              "      <td>259.6209</td>\n",
              "      <td>Y</td>\n",
              "    </tr>\n",
              "  </tbody>\n",
              "</table>\n",
              "<p>5 rows × 197 columns</p>\n",
              "</div>"
            ],
            "text/plain": [
              "   ISS  NISS      PS14  Age  ...  MCP-1_T3  TNF-A_T3  Cortisol (ng/ml)_T3  Label\n",
              "0   11    11  97.21493   41  ...       NaN       NaN             180.6876      N\n",
              "1    9    22  99.59795   22  ...      2.89     39.96             133.6386      Y\n",
              "2   14    17  99.10462   47  ...      0.01     85.15             181.1892      N\n",
              "3    4    12  99.85114   38  ...    646.47   1267.07             194.7159      N\n",
              "4   24    34  87.32603   78  ...       NaN       NaN             259.6209      Y\n",
              "\n",
              "[5 rows x 197 columns]"
            ]
          },
          "metadata": {},
          "execution_count": 7
        }
      ]
    },
    {
      "cell_type": "code",
      "metadata": {
        "colab": {
          "base_uri": "https://localhost:8080/"
        },
        "id": "_cR5EFuLYPG1",
        "outputId": "1c3f7623-c2dd-47ab-9448-2db4f6d71a44"
      },
      "source": [
        "ds2.shape"
      ],
      "execution_count": 8,
      "outputs": [
        {
          "output_type": "execute_result",
          "data": {
            "text/plain": [
              "(61, 197)"
            ]
          },
          "metadata": {},
          "execution_count": 8
        }
      ]
    },
    {
      "cell_type": "markdown",
      "metadata": {
        "id": "eHL6_DwqYU6H"
      },
      "source": [
        "**features:** 197"
      ]
    },
    {
      "cell_type": "markdown",
      "metadata": {
        "id": "nWRVnx6CYUqO"
      },
      "source": [
        "**Rows:** 61"
      ]
    },
    {
      "cell_type": "code",
      "metadata": {
        "colab": {
          "base_uri": "https://localhost:8080/"
        },
        "id": "33J9vsFGYVbI",
        "outputId": "7200461d-d830-44de-c64a-4445e1e28936"
      },
      "source": [
        "ds2.info()"
      ],
      "execution_count": 9,
      "outputs": [
        {
          "output_type": "stream",
          "name": "stdout",
          "text": [
            "<class 'pandas.core.frame.DataFrame'>\n",
            "RangeIndex: 61 entries, 0 to 60\n",
            "Columns: 197 entries, ISS to Label\n",
            "dtypes: float64(186), int64(10), object(1)\n",
            "memory usage: 94.0+ KB\n"
          ]
        }
      ]
    },
    {
      "cell_type": "code",
      "metadata": {
        "colab": {
          "base_uri": "https://localhost:8080/"
        },
        "id": "9hqc5_6lYiFl",
        "outputId": "db79cb55-ee95-4092-dc0d-f6fc2bf22eec"
      },
      "source": [
        "ds2.duplicated().any()"
      ],
      "execution_count": 10,
      "outputs": [
        {
          "output_type": "execute_result",
          "data": {
            "text/plain": [
              "False"
            ]
          },
          "metadata": {},
          "execution_count": 10
        }
      ]
    },
    {
      "cell_type": "code",
      "metadata": {
        "colab": {
          "base_uri": "https://localhost:8080/"
        },
        "id": "PQ3QsEuaYoJ4",
        "outputId": "6621201b-e5f4-4346-cd84-db7664bcc880"
      },
      "source": [
        "ds2.isna().any()"
      ],
      "execution_count": 11,
      "outputs": [
        {
          "output_type": "execute_result",
          "data": {
            "text/plain": [
              "ISS                    False\n",
              "NISS                   False\n",
              "PS14                   False\n",
              "Age                    False\n",
              "WBC [109/L]_T1          True\n",
              "                       ...  \n",
              "G-CSF_T3                True\n",
              "MCP-1_T3                True\n",
              "TNF-A_T3                True\n",
              "Cortisol (ng/ml)_T3    False\n",
              "Label                  False\n",
              "Length: 197, dtype: bool"
            ]
          },
          "metadata": {},
          "execution_count": 11
        }
      ]
    },
    {
      "cell_type": "markdown",
      "metadata": {
        "id": "wHsxwHxmY2qR"
      },
      "source": [
        "The dataset has lots of missing values and this may take a lot of digging to impute the data."
      ]
    },
    {
      "cell_type": "markdown",
      "metadata": {
        "id": "K7EDI_FcC4YO"
      },
      "source": [
        "## Week 02"
      ]
    },
    {
      "cell_type": "markdown",
      "metadata": {
        "id": "7tI6kI_3DAf4"
      },
      "source": [
        "Dataset 1 was approved. The problem is reinstated again here:\n"
      ]
    },
    {
      "cell_type": "markdown",
      "metadata": {
        "id": "ZOdz1kYrDa1B"
      },
      "source": [
        "- **Src:** https://www.kaggle.com/hellbuoy/car-price-prediction\n",
        "- **Description:**  A large data set of different types of cars across the US  market.\n",
        "- **Target:** Price (*predict the sales price*)\n",
        "- **Type:** Regression\n",
        "- **Goal:** We are required to model the price of cars with the available independent variables. It will be used by the management to understand how exactly the prices vary with the independent variables. They can accordingly manipulate the design of the cars, the business strategy etc. to meet certain price levels. Further, the model will be a good way for management to understand the pricing dynamics of a new market."
      ]
    },
    {
      "cell_type": "markdown",
      "metadata": {
        "id": "dpbHcHVpEdN_"
      },
      "source": [
        "##### Features:\n",
        "\n",
        "|No| Feature | Description | Type |\n",
        "|-|-|-|-|\n",
        "|1|**car_ID**| Unique id for each observation| Integer |\n",
        "|2|**Symboling**| Its assigned insurance risk rating, A value of +3 indicates that the auto is risky, -3 that it is probably pretty safe. | Categorical |\n",
        "|3|**CarName** | Manufacturer and Model Name | Categorical | \n",
        "|4|**fueltype**| Car fuel type i.e gas or diesel | Categorical |\n",
        "|5|**aspiration**| Aspiration used in a car | Categorical |\n",
        "|6|**doornumber**| Number of doors in a car | Categorical |\n",
        "|7|**carbody**| body of car | Categorical |\n",
        "|8|**drivewheel**| type of drive wheel | Categorical |\n",
        "|9|**enginelocation**|location of car engine | Categorical |\n",
        "|10|**wheelbase**|wheelbase of car | Numeric |\n",
        "|11|**carlength**|length of car | Numeric |\n",
        "|12|**carwidth**|width of car | Numeric |\n",
        "|13|**carheight**|height of car | Numeric |\n",
        "|14|**curbweight**|weight of car without occupants or baggage | Numeric |\n",
        "|15|**enginetype**|type of car engine | Categorical |\n",
        "|16|**cylindernumber**|cylinder placed in the car | Categorical |\n",
        "|17|**enginesize**|size of car | Numeric |\n",
        "|18|**fuelsystem**|fuel system of car| Categorical |\n",
        "|19|**boreratio**|boreratio of car | Numeric |\n",
        "|20|**stroke**|stroke or volume inside the engine | Numeric |\n",
        "|21|**compressionratio**|compression ratio of car | Numeric |\n",
        "|22|**horsepower**|horsepower | Numeric |\n",
        "|23|**peakrpm**|car peak rpm  | Numeric |\n",
        "|24|**citympg**|mileage on city | Numeric |\n",
        "|25|**highwaypmpg**|mileage on highway | Numeric |\n",
        "|26|**price**|price of car | Numeric |"
      ]
    },
    {
      "cell_type": "markdown",
      "metadata": {
        "id": "fbpCI-i8R2Bn"
      },
      "source": [
        "### Cleaning"
      ]
    },
    {
      "cell_type": "code",
      "metadata": {
        "colab": {
          "base_uri": "https://localhost:8080/",
          "height": 278
        },
        "id": "pa3jC2YdC_cT",
        "outputId": "28494b11-74c0-432d-e529-2c79a39d3229"
      },
      "source": [
        "ds1.head()"
      ],
      "execution_count": 18,
      "outputs": [
        {
          "output_type": "execute_result",
          "data": {
            "text/html": [
              "<div>\n",
              "<style scoped>\n",
              "    .dataframe tbody tr th:only-of-type {\n",
              "        vertical-align: middle;\n",
              "    }\n",
              "\n",
              "    .dataframe tbody tr th {\n",
              "        vertical-align: top;\n",
              "    }\n",
              "\n",
              "    .dataframe thead th {\n",
              "        text-align: right;\n",
              "    }\n",
              "</style>\n",
              "<table border=\"1\" class=\"dataframe\">\n",
              "  <thead>\n",
              "    <tr style=\"text-align: right;\">\n",
              "      <th></th>\n",
              "      <th>car_ID</th>\n",
              "      <th>symboling</th>\n",
              "      <th>CarName</th>\n",
              "      <th>fueltype</th>\n",
              "      <th>aspiration</th>\n",
              "      <th>doornumber</th>\n",
              "      <th>carbody</th>\n",
              "      <th>drivewheel</th>\n",
              "      <th>enginelocation</th>\n",
              "      <th>wheelbase</th>\n",
              "      <th>carlength</th>\n",
              "      <th>carwidth</th>\n",
              "      <th>carheight</th>\n",
              "      <th>curbweight</th>\n",
              "      <th>enginetype</th>\n",
              "      <th>cylindernumber</th>\n",
              "      <th>enginesize</th>\n",
              "      <th>fuelsystem</th>\n",
              "      <th>boreratio</th>\n",
              "      <th>stroke</th>\n",
              "      <th>compressionratio</th>\n",
              "      <th>horsepower</th>\n",
              "      <th>peakrpm</th>\n",
              "      <th>citympg</th>\n",
              "      <th>highwaympg</th>\n",
              "      <th>price</th>\n",
              "    </tr>\n",
              "  </thead>\n",
              "  <tbody>\n",
              "    <tr>\n",
              "      <th>0</th>\n",
              "      <td>1</td>\n",
              "      <td>3</td>\n",
              "      <td>alfa-romero giulia</td>\n",
              "      <td>gas</td>\n",
              "      <td>std</td>\n",
              "      <td>two</td>\n",
              "      <td>convertible</td>\n",
              "      <td>rwd</td>\n",
              "      <td>front</td>\n",
              "      <td>88.6</td>\n",
              "      <td>168.8</td>\n",
              "      <td>64.1</td>\n",
              "      <td>48.8</td>\n",
              "      <td>2548</td>\n",
              "      <td>dohc</td>\n",
              "      <td>four</td>\n",
              "      <td>130</td>\n",
              "      <td>mpfi</td>\n",
              "      <td>3.47</td>\n",
              "      <td>2.68</td>\n",
              "      <td>9.0</td>\n",
              "      <td>111</td>\n",
              "      <td>5000</td>\n",
              "      <td>21</td>\n",
              "      <td>27</td>\n",
              "      <td>13495.0</td>\n",
              "    </tr>\n",
              "    <tr>\n",
              "      <th>1</th>\n",
              "      <td>2</td>\n",
              "      <td>3</td>\n",
              "      <td>alfa-romero stelvio</td>\n",
              "      <td>gas</td>\n",
              "      <td>std</td>\n",
              "      <td>two</td>\n",
              "      <td>convertible</td>\n",
              "      <td>rwd</td>\n",
              "      <td>front</td>\n",
              "      <td>88.6</td>\n",
              "      <td>168.8</td>\n",
              "      <td>64.1</td>\n",
              "      <td>48.8</td>\n",
              "      <td>2548</td>\n",
              "      <td>dohc</td>\n",
              "      <td>four</td>\n",
              "      <td>130</td>\n",
              "      <td>mpfi</td>\n",
              "      <td>3.47</td>\n",
              "      <td>2.68</td>\n",
              "      <td>9.0</td>\n",
              "      <td>111</td>\n",
              "      <td>5000</td>\n",
              "      <td>21</td>\n",
              "      <td>27</td>\n",
              "      <td>16500.0</td>\n",
              "    </tr>\n",
              "    <tr>\n",
              "      <th>2</th>\n",
              "      <td>3</td>\n",
              "      <td>1</td>\n",
              "      <td>alfa-romero Quadrifoglio</td>\n",
              "      <td>gas</td>\n",
              "      <td>std</td>\n",
              "      <td>two</td>\n",
              "      <td>hatchback</td>\n",
              "      <td>rwd</td>\n",
              "      <td>front</td>\n",
              "      <td>94.5</td>\n",
              "      <td>171.2</td>\n",
              "      <td>65.5</td>\n",
              "      <td>52.4</td>\n",
              "      <td>2823</td>\n",
              "      <td>ohcv</td>\n",
              "      <td>six</td>\n",
              "      <td>152</td>\n",
              "      <td>mpfi</td>\n",
              "      <td>2.68</td>\n",
              "      <td>3.47</td>\n",
              "      <td>9.0</td>\n",
              "      <td>154</td>\n",
              "      <td>5000</td>\n",
              "      <td>19</td>\n",
              "      <td>26</td>\n",
              "      <td>16500.0</td>\n",
              "    </tr>\n",
              "    <tr>\n",
              "      <th>3</th>\n",
              "      <td>4</td>\n",
              "      <td>2</td>\n",
              "      <td>audi 100 ls</td>\n",
              "      <td>gas</td>\n",
              "      <td>std</td>\n",
              "      <td>four</td>\n",
              "      <td>sedan</td>\n",
              "      <td>fwd</td>\n",
              "      <td>front</td>\n",
              "      <td>99.8</td>\n",
              "      <td>176.6</td>\n",
              "      <td>66.2</td>\n",
              "      <td>54.3</td>\n",
              "      <td>2337</td>\n",
              "      <td>ohc</td>\n",
              "      <td>four</td>\n",
              "      <td>109</td>\n",
              "      <td>mpfi</td>\n",
              "      <td>3.19</td>\n",
              "      <td>3.40</td>\n",
              "      <td>10.0</td>\n",
              "      <td>102</td>\n",
              "      <td>5500</td>\n",
              "      <td>24</td>\n",
              "      <td>30</td>\n",
              "      <td>13950.0</td>\n",
              "    </tr>\n",
              "    <tr>\n",
              "      <th>4</th>\n",
              "      <td>5</td>\n",
              "      <td>2</td>\n",
              "      <td>audi 100ls</td>\n",
              "      <td>gas</td>\n",
              "      <td>std</td>\n",
              "      <td>four</td>\n",
              "      <td>sedan</td>\n",
              "      <td>4wd</td>\n",
              "      <td>front</td>\n",
              "      <td>99.4</td>\n",
              "      <td>176.6</td>\n",
              "      <td>66.4</td>\n",
              "      <td>54.3</td>\n",
              "      <td>2824</td>\n",
              "      <td>ohc</td>\n",
              "      <td>five</td>\n",
              "      <td>136</td>\n",
              "      <td>mpfi</td>\n",
              "      <td>3.19</td>\n",
              "      <td>3.40</td>\n",
              "      <td>8.0</td>\n",
              "      <td>115</td>\n",
              "      <td>5500</td>\n",
              "      <td>18</td>\n",
              "      <td>22</td>\n",
              "      <td>17450.0</td>\n",
              "    </tr>\n",
              "  </tbody>\n",
              "</table>\n",
              "</div>"
            ],
            "text/plain": [
              "   car_ID  symboling                   CarName  ... citympg highwaympg    price\n",
              "0       1          3        alfa-romero giulia  ...      21         27  13495.0\n",
              "1       2          3       alfa-romero stelvio  ...      21         27  16500.0\n",
              "2       3          1  alfa-romero Quadrifoglio  ...      19         26  16500.0\n",
              "3       4          2               audi 100 ls  ...      24         30  13950.0\n",
              "4       5          2                audi 100ls  ...      18         22  17450.0\n",
              "\n",
              "[5 rows x 26 columns]"
            ]
          },
          "metadata": {},
          "execution_count": 18
        }
      ]
    },
    {
      "cell_type": "code",
      "metadata": {
        "id": "z28vbL4bPg28"
      },
      "source": [
        "ds1.columns=[\"Car_ID\",\"Symboling\",\"Car_Name\",\"Fuel_Type\",\"Aspiration\",\"Door_Number\",\"Car_Body\",\"Drive_Wheel\",\"Engine_Location\",\"Wheel_Base\",\"Car_Length\",\"Car_Width\",\"Car_Height\",\"Curb_Weight\",\"Engine_Type\",\"Cylinder_Type\",\"Engine_Size\",\"Fuel_System\",\"Bore_Ratio\",\"Stroke\",\"Compression_Ratio\",\"Horse_Power\",\"Peak_RPM\",\"City_MPG\",\"Highway_MPG\",\"Price\"]"
      ],
      "execution_count": 19,
      "outputs": []
    },
    {
      "cell_type": "code",
      "metadata": {
        "id": "ayKiQ9hiI2cq"
      },
      "source": [
        "ds1.set_index('Car_ID',drop=True,inplace=True)"
      ],
      "execution_count": 24,
      "outputs": []
    },
    {
      "cell_type": "code",
      "metadata": {
        "colab": {
          "base_uri": "https://localhost:8080/",
          "height": 309
        },
        "id": "KPdk8N2rQpsE",
        "outputId": "34e16476-140e-42dd-e853-7fa7e1c5a081"
      },
      "source": [
        "ds1.head()"
      ],
      "execution_count": 25,
      "outputs": [
        {
          "output_type": "execute_result",
          "data": {
            "text/html": [
              "<div>\n",
              "<style scoped>\n",
              "    .dataframe tbody tr th:only-of-type {\n",
              "        vertical-align: middle;\n",
              "    }\n",
              "\n",
              "    .dataframe tbody tr th {\n",
              "        vertical-align: top;\n",
              "    }\n",
              "\n",
              "    .dataframe thead th {\n",
              "        text-align: right;\n",
              "    }\n",
              "</style>\n",
              "<table border=\"1\" class=\"dataframe\">\n",
              "  <thead>\n",
              "    <tr style=\"text-align: right;\">\n",
              "      <th></th>\n",
              "      <th>Symboling</th>\n",
              "      <th>Car_Name</th>\n",
              "      <th>Fuel_Type</th>\n",
              "      <th>Aspiration</th>\n",
              "      <th>Door_Number</th>\n",
              "      <th>Car_Body</th>\n",
              "      <th>Drive_Wheel</th>\n",
              "      <th>Engine_Location</th>\n",
              "      <th>Wheel_Base</th>\n",
              "      <th>Car_Length</th>\n",
              "      <th>Car_Width</th>\n",
              "      <th>Car_Height</th>\n",
              "      <th>Curb_Weight</th>\n",
              "      <th>Engine_Type</th>\n",
              "      <th>Cylinder_Type</th>\n",
              "      <th>Engine_Size</th>\n",
              "      <th>Fuel_System</th>\n",
              "      <th>Bore_Ratio</th>\n",
              "      <th>Stroke</th>\n",
              "      <th>Compression_Ratio</th>\n",
              "      <th>Horse_Power</th>\n",
              "      <th>Peak_RPM</th>\n",
              "      <th>City_MPG</th>\n",
              "      <th>Highway_MPG</th>\n",
              "      <th>Price</th>\n",
              "    </tr>\n",
              "    <tr>\n",
              "      <th>Car_ID</th>\n",
              "      <th></th>\n",
              "      <th></th>\n",
              "      <th></th>\n",
              "      <th></th>\n",
              "      <th></th>\n",
              "      <th></th>\n",
              "      <th></th>\n",
              "      <th></th>\n",
              "      <th></th>\n",
              "      <th></th>\n",
              "      <th></th>\n",
              "      <th></th>\n",
              "      <th></th>\n",
              "      <th></th>\n",
              "      <th></th>\n",
              "      <th></th>\n",
              "      <th></th>\n",
              "      <th></th>\n",
              "      <th></th>\n",
              "      <th></th>\n",
              "      <th></th>\n",
              "      <th></th>\n",
              "      <th></th>\n",
              "      <th></th>\n",
              "      <th></th>\n",
              "    </tr>\n",
              "  </thead>\n",
              "  <tbody>\n",
              "    <tr>\n",
              "      <th>1</th>\n",
              "      <td>3</td>\n",
              "      <td>alfa-romero giulia</td>\n",
              "      <td>gas</td>\n",
              "      <td>std</td>\n",
              "      <td>two</td>\n",
              "      <td>convertible</td>\n",
              "      <td>rwd</td>\n",
              "      <td>front</td>\n",
              "      <td>88.6</td>\n",
              "      <td>168.8</td>\n",
              "      <td>64.1</td>\n",
              "      <td>48.8</td>\n",
              "      <td>2548</td>\n",
              "      <td>dohc</td>\n",
              "      <td>four</td>\n",
              "      <td>130</td>\n",
              "      <td>mpfi</td>\n",
              "      <td>3.47</td>\n",
              "      <td>2.68</td>\n",
              "      <td>9.0</td>\n",
              "      <td>111</td>\n",
              "      <td>5000</td>\n",
              "      <td>21</td>\n",
              "      <td>27</td>\n",
              "      <td>13495.0</td>\n",
              "    </tr>\n",
              "    <tr>\n",
              "      <th>2</th>\n",
              "      <td>3</td>\n",
              "      <td>alfa-romero stelvio</td>\n",
              "      <td>gas</td>\n",
              "      <td>std</td>\n",
              "      <td>two</td>\n",
              "      <td>convertible</td>\n",
              "      <td>rwd</td>\n",
              "      <td>front</td>\n",
              "      <td>88.6</td>\n",
              "      <td>168.8</td>\n",
              "      <td>64.1</td>\n",
              "      <td>48.8</td>\n",
              "      <td>2548</td>\n",
              "      <td>dohc</td>\n",
              "      <td>four</td>\n",
              "      <td>130</td>\n",
              "      <td>mpfi</td>\n",
              "      <td>3.47</td>\n",
              "      <td>2.68</td>\n",
              "      <td>9.0</td>\n",
              "      <td>111</td>\n",
              "      <td>5000</td>\n",
              "      <td>21</td>\n",
              "      <td>27</td>\n",
              "      <td>16500.0</td>\n",
              "    </tr>\n",
              "    <tr>\n",
              "      <th>3</th>\n",
              "      <td>1</td>\n",
              "      <td>alfa-romero Quadrifoglio</td>\n",
              "      <td>gas</td>\n",
              "      <td>std</td>\n",
              "      <td>two</td>\n",
              "      <td>hatchback</td>\n",
              "      <td>rwd</td>\n",
              "      <td>front</td>\n",
              "      <td>94.5</td>\n",
              "      <td>171.2</td>\n",
              "      <td>65.5</td>\n",
              "      <td>52.4</td>\n",
              "      <td>2823</td>\n",
              "      <td>ohcv</td>\n",
              "      <td>six</td>\n",
              "      <td>152</td>\n",
              "      <td>mpfi</td>\n",
              "      <td>2.68</td>\n",
              "      <td>3.47</td>\n",
              "      <td>9.0</td>\n",
              "      <td>154</td>\n",
              "      <td>5000</td>\n",
              "      <td>19</td>\n",
              "      <td>26</td>\n",
              "      <td>16500.0</td>\n",
              "    </tr>\n",
              "    <tr>\n",
              "      <th>4</th>\n",
              "      <td>2</td>\n",
              "      <td>audi 100 ls</td>\n",
              "      <td>gas</td>\n",
              "      <td>std</td>\n",
              "      <td>four</td>\n",
              "      <td>sedan</td>\n",
              "      <td>fwd</td>\n",
              "      <td>front</td>\n",
              "      <td>99.8</td>\n",
              "      <td>176.6</td>\n",
              "      <td>66.2</td>\n",
              "      <td>54.3</td>\n",
              "      <td>2337</td>\n",
              "      <td>ohc</td>\n",
              "      <td>four</td>\n",
              "      <td>109</td>\n",
              "      <td>mpfi</td>\n",
              "      <td>3.19</td>\n",
              "      <td>3.40</td>\n",
              "      <td>10.0</td>\n",
              "      <td>102</td>\n",
              "      <td>5500</td>\n",
              "      <td>24</td>\n",
              "      <td>30</td>\n",
              "      <td>13950.0</td>\n",
              "    </tr>\n",
              "    <tr>\n",
              "      <th>5</th>\n",
              "      <td>2</td>\n",
              "      <td>audi 100ls</td>\n",
              "      <td>gas</td>\n",
              "      <td>std</td>\n",
              "      <td>four</td>\n",
              "      <td>sedan</td>\n",
              "      <td>4wd</td>\n",
              "      <td>front</td>\n",
              "      <td>99.4</td>\n",
              "      <td>176.6</td>\n",
              "      <td>66.4</td>\n",
              "      <td>54.3</td>\n",
              "      <td>2824</td>\n",
              "      <td>ohc</td>\n",
              "      <td>five</td>\n",
              "      <td>136</td>\n",
              "      <td>mpfi</td>\n",
              "      <td>3.19</td>\n",
              "      <td>3.40</td>\n",
              "      <td>8.0</td>\n",
              "      <td>115</td>\n",
              "      <td>5500</td>\n",
              "      <td>18</td>\n",
              "      <td>22</td>\n",
              "      <td>17450.0</td>\n",
              "    </tr>\n",
              "  </tbody>\n",
              "</table>\n",
              "</div>"
            ],
            "text/plain": [
              "        Symboling                  Car_Name  ... Highway_MPG    Price\n",
              "Car_ID                                       ...                     \n",
              "1               3        alfa-romero giulia  ...          27  13495.0\n",
              "2               3       alfa-romero stelvio  ...          27  16500.0\n",
              "3               1  alfa-romero Quadrifoglio  ...          26  16500.0\n",
              "4               2               audi 100 ls  ...          30  13950.0\n",
              "5               2                audi 100ls  ...          22  17450.0\n",
              "\n",
              "[5 rows x 25 columns]"
            ]
          },
          "metadata": {},
          "execution_count": 25
        }
      ]
    },
    {
      "cell_type": "code",
      "metadata": {
        "colab": {
          "base_uri": "https://localhost:8080/"
        },
        "id": "gW6bkgxlRFbB",
        "outputId": "341fe38b-8514-478e-8fb3-d015b5651919"
      },
      "source": [
        "ds1.shape"
      ],
      "execution_count": 26,
      "outputs": [
        {
          "output_type": "execute_result",
          "data": {
            "text/plain": [
              "(205, 25)"
            ]
          },
          "metadata": {},
          "execution_count": 26
        }
      ]
    },
    {
      "cell_type": "code",
      "metadata": {
        "colab": {
          "base_uri": "https://localhost:8080/"
        },
        "id": "37VECoXFRKCI",
        "outputId": "4c2e0ab4-9fcf-4665-fc4b-59b03a401bc3"
      },
      "source": [
        "ds1.info()"
      ],
      "execution_count": 27,
      "outputs": [
        {
          "output_type": "stream",
          "name": "stdout",
          "text": [
            "<class 'pandas.core.frame.DataFrame'>\n",
            "Int64Index: 205 entries, 1 to 205\n",
            "Data columns (total 25 columns):\n",
            " #   Column             Non-Null Count  Dtype  \n",
            "---  ------             --------------  -----  \n",
            " 0   Symboling          205 non-null    int64  \n",
            " 1   Car_Name           205 non-null    object \n",
            " 2   Fuel_Type          205 non-null    object \n",
            " 3   Aspiration         205 non-null    object \n",
            " 4   Door_Number        205 non-null    object \n",
            " 5   Car_Body           205 non-null    object \n",
            " 6   Drive_Wheel        205 non-null    object \n",
            " 7   Engine_Location    205 non-null    object \n",
            " 8   Wheel_Base         205 non-null    float64\n",
            " 9   Car_Length         205 non-null    float64\n",
            " 10  Car_Width          205 non-null    float64\n",
            " 11  Car_Height         205 non-null    float64\n",
            " 12  Curb_Weight        205 non-null    int64  \n",
            " 13  Engine_Type        205 non-null    object \n",
            " 14  Cylinder_Type      205 non-null    object \n",
            " 15  Engine_Size        205 non-null    int64  \n",
            " 16  Fuel_System        205 non-null    object \n",
            " 17  Bore_Ratio         205 non-null    float64\n",
            " 18  Stroke             205 non-null    float64\n",
            " 19  Compression_Ratio  205 non-null    float64\n",
            " 20  Horse_Power        205 non-null    int64  \n",
            " 21  Peak_RPM           205 non-null    int64  \n",
            " 22  City_MPG           205 non-null    int64  \n",
            " 23  Highway_MPG        205 non-null    int64  \n",
            " 24  Price              205 non-null    float64\n",
            "dtypes: float64(8), int64(7), object(10)\n",
            "memory usage: 41.6+ KB\n"
          ]
        }
      ]
    },
    {
      "cell_type": "code",
      "metadata": {
        "colab": {
          "base_uri": "https://localhost:8080/",
          "height": 300
        },
        "id": "_jUZ1vUoRUqF",
        "outputId": "e3d52825-79b0-45a3-b40e-458a40f086ca"
      },
      "source": [
        "ds1.describe()"
      ],
      "execution_count": 28,
      "outputs": [
        {
          "output_type": "execute_result",
          "data": {
            "text/html": [
              "<div>\n",
              "<style scoped>\n",
              "    .dataframe tbody tr th:only-of-type {\n",
              "        vertical-align: middle;\n",
              "    }\n",
              "\n",
              "    .dataframe tbody tr th {\n",
              "        vertical-align: top;\n",
              "    }\n",
              "\n",
              "    .dataframe thead th {\n",
              "        text-align: right;\n",
              "    }\n",
              "</style>\n",
              "<table border=\"1\" class=\"dataframe\">\n",
              "  <thead>\n",
              "    <tr style=\"text-align: right;\">\n",
              "      <th></th>\n",
              "      <th>Symboling</th>\n",
              "      <th>Wheel_Base</th>\n",
              "      <th>Car_Length</th>\n",
              "      <th>Car_Width</th>\n",
              "      <th>Car_Height</th>\n",
              "      <th>Curb_Weight</th>\n",
              "      <th>Engine_Size</th>\n",
              "      <th>Bore_Ratio</th>\n",
              "      <th>Stroke</th>\n",
              "      <th>Compression_Ratio</th>\n",
              "      <th>Horse_Power</th>\n",
              "      <th>Peak_RPM</th>\n",
              "      <th>City_MPG</th>\n",
              "      <th>Highway_MPG</th>\n",
              "      <th>Price</th>\n",
              "    </tr>\n",
              "  </thead>\n",
              "  <tbody>\n",
              "    <tr>\n",
              "      <th>count</th>\n",
              "      <td>205.000000</td>\n",
              "      <td>205.000000</td>\n",
              "      <td>205.000000</td>\n",
              "      <td>205.000000</td>\n",
              "      <td>205.000000</td>\n",
              "      <td>205.000000</td>\n",
              "      <td>205.000000</td>\n",
              "      <td>205.000000</td>\n",
              "      <td>205.000000</td>\n",
              "      <td>205.000000</td>\n",
              "      <td>205.000000</td>\n",
              "      <td>205.000000</td>\n",
              "      <td>205.000000</td>\n",
              "      <td>205.000000</td>\n",
              "      <td>205.000000</td>\n",
              "    </tr>\n",
              "    <tr>\n",
              "      <th>mean</th>\n",
              "      <td>0.834146</td>\n",
              "      <td>98.756585</td>\n",
              "      <td>174.049268</td>\n",
              "      <td>65.907805</td>\n",
              "      <td>53.724878</td>\n",
              "      <td>2555.565854</td>\n",
              "      <td>126.907317</td>\n",
              "      <td>3.329756</td>\n",
              "      <td>3.255415</td>\n",
              "      <td>10.142537</td>\n",
              "      <td>104.117073</td>\n",
              "      <td>5125.121951</td>\n",
              "      <td>25.219512</td>\n",
              "      <td>30.751220</td>\n",
              "      <td>13276.710571</td>\n",
              "    </tr>\n",
              "    <tr>\n",
              "      <th>std</th>\n",
              "      <td>1.245307</td>\n",
              "      <td>6.021776</td>\n",
              "      <td>12.337289</td>\n",
              "      <td>2.145204</td>\n",
              "      <td>2.443522</td>\n",
              "      <td>520.680204</td>\n",
              "      <td>41.642693</td>\n",
              "      <td>0.270844</td>\n",
              "      <td>0.313597</td>\n",
              "      <td>3.972040</td>\n",
              "      <td>39.544167</td>\n",
              "      <td>476.985643</td>\n",
              "      <td>6.542142</td>\n",
              "      <td>6.886443</td>\n",
              "      <td>7988.852332</td>\n",
              "    </tr>\n",
              "    <tr>\n",
              "      <th>min</th>\n",
              "      <td>-2.000000</td>\n",
              "      <td>86.600000</td>\n",
              "      <td>141.100000</td>\n",
              "      <td>60.300000</td>\n",
              "      <td>47.800000</td>\n",
              "      <td>1488.000000</td>\n",
              "      <td>61.000000</td>\n",
              "      <td>2.540000</td>\n",
              "      <td>2.070000</td>\n",
              "      <td>7.000000</td>\n",
              "      <td>48.000000</td>\n",
              "      <td>4150.000000</td>\n",
              "      <td>13.000000</td>\n",
              "      <td>16.000000</td>\n",
              "      <td>5118.000000</td>\n",
              "    </tr>\n",
              "    <tr>\n",
              "      <th>25%</th>\n",
              "      <td>0.000000</td>\n",
              "      <td>94.500000</td>\n",
              "      <td>166.300000</td>\n",
              "      <td>64.100000</td>\n",
              "      <td>52.000000</td>\n",
              "      <td>2145.000000</td>\n",
              "      <td>97.000000</td>\n",
              "      <td>3.150000</td>\n",
              "      <td>3.110000</td>\n",
              "      <td>8.600000</td>\n",
              "      <td>70.000000</td>\n",
              "      <td>4800.000000</td>\n",
              "      <td>19.000000</td>\n",
              "      <td>25.000000</td>\n",
              "      <td>7788.000000</td>\n",
              "    </tr>\n",
              "    <tr>\n",
              "      <th>50%</th>\n",
              "      <td>1.000000</td>\n",
              "      <td>97.000000</td>\n",
              "      <td>173.200000</td>\n",
              "      <td>65.500000</td>\n",
              "      <td>54.100000</td>\n",
              "      <td>2414.000000</td>\n",
              "      <td>120.000000</td>\n",
              "      <td>3.310000</td>\n",
              "      <td>3.290000</td>\n",
              "      <td>9.000000</td>\n",
              "      <td>95.000000</td>\n",
              "      <td>5200.000000</td>\n",
              "      <td>24.000000</td>\n",
              "      <td>30.000000</td>\n",
              "      <td>10295.000000</td>\n",
              "    </tr>\n",
              "    <tr>\n",
              "      <th>75%</th>\n",
              "      <td>2.000000</td>\n",
              "      <td>102.400000</td>\n",
              "      <td>183.100000</td>\n",
              "      <td>66.900000</td>\n",
              "      <td>55.500000</td>\n",
              "      <td>2935.000000</td>\n",
              "      <td>141.000000</td>\n",
              "      <td>3.580000</td>\n",
              "      <td>3.410000</td>\n",
              "      <td>9.400000</td>\n",
              "      <td>116.000000</td>\n",
              "      <td>5500.000000</td>\n",
              "      <td>30.000000</td>\n",
              "      <td>34.000000</td>\n",
              "      <td>16503.000000</td>\n",
              "    </tr>\n",
              "    <tr>\n",
              "      <th>max</th>\n",
              "      <td>3.000000</td>\n",
              "      <td>120.900000</td>\n",
              "      <td>208.100000</td>\n",
              "      <td>72.300000</td>\n",
              "      <td>59.800000</td>\n",
              "      <td>4066.000000</td>\n",
              "      <td>326.000000</td>\n",
              "      <td>3.940000</td>\n",
              "      <td>4.170000</td>\n",
              "      <td>23.000000</td>\n",
              "      <td>288.000000</td>\n",
              "      <td>6600.000000</td>\n",
              "      <td>49.000000</td>\n",
              "      <td>54.000000</td>\n",
              "      <td>45400.000000</td>\n",
              "    </tr>\n",
              "  </tbody>\n",
              "</table>\n",
              "</div>"
            ],
            "text/plain": [
              "        Symboling  Wheel_Base  ...  Highway_MPG         Price\n",
              "count  205.000000  205.000000  ...   205.000000    205.000000\n",
              "mean     0.834146   98.756585  ...    30.751220  13276.710571\n",
              "std      1.245307    6.021776  ...     6.886443   7988.852332\n",
              "min     -2.000000   86.600000  ...    16.000000   5118.000000\n",
              "25%      0.000000   94.500000  ...    25.000000   7788.000000\n",
              "50%      1.000000   97.000000  ...    30.000000  10295.000000\n",
              "75%      2.000000  102.400000  ...    34.000000  16503.000000\n",
              "max      3.000000  120.900000  ...    54.000000  45400.000000\n",
              "\n",
              "[8 rows x 15 columns]"
            ]
          },
          "metadata": {},
          "execution_count": 28
        }
      ]
    },
    {
      "cell_type": "code",
      "metadata": {
        "colab": {
          "base_uri": "https://localhost:8080/"
        },
        "id": "arfwGKtQRC9y",
        "outputId": "aa894657-ab2f-4475-8c27-002d188027c6"
      },
      "source": [
        "ds1.isna().any()"
      ],
      "execution_count": 29,
      "outputs": [
        {
          "output_type": "execute_result",
          "data": {
            "text/plain": [
              "Symboling            False\n",
              "Car_Name             False\n",
              "Fuel_Type            False\n",
              "Aspiration           False\n",
              "Door_Number          False\n",
              "Car_Body             False\n",
              "Drive_Wheel          False\n",
              "Engine_Location      False\n",
              "Wheel_Base           False\n",
              "Car_Length           False\n",
              "Car_Width            False\n",
              "Car_Height           False\n",
              "Curb_Weight          False\n",
              "Engine_Type          False\n",
              "Cylinder_Type        False\n",
              "Engine_Size          False\n",
              "Fuel_System          False\n",
              "Bore_Ratio           False\n",
              "Stroke               False\n",
              "Compression_Ratio    False\n",
              "Horse_Power          False\n",
              "Peak_RPM             False\n",
              "City_MPG             False\n",
              "Highway_MPG          False\n",
              "Price                False\n",
              "dtype: bool"
            ]
          },
          "metadata": {},
          "execution_count": 29
        }
      ]
    },
    {
      "cell_type": "markdown",
      "metadata": {
        "id": "bWTw02DKRhRp"
      },
      "source": [
        "No missing values"
      ]
    },
    {
      "cell_type": "code",
      "metadata": {
        "colab": {
          "base_uri": "https://localhost:8080/"
        },
        "id": "c8f_YPAfRjxl",
        "outputId": "5cdd7ba1-b75a-44ae-824d-1a8b47a6bc0d"
      },
      "source": [
        "ds1.duplicated().any()"
      ],
      "execution_count": 31,
      "outputs": [
        {
          "output_type": "execute_result",
          "data": {
            "text/plain": [
              "False"
            ]
          },
          "metadata": {},
          "execution_count": 31
        }
      ]
    },
    {
      "cell_type": "markdown",
      "metadata": {
        "id": "XxsvRqkrRsXR"
      },
      "source": [
        "No duplicates"
      ]
    },
    {
      "cell_type": "markdown",
      "metadata": {
        "id": "1R26GLViRu6M"
      },
      "source": [
        "**Explore the columns**"
      ]
    },
    {
      "cell_type": "code",
      "metadata": {
        "colab": {
          "base_uri": "https://localhost:8080/"
        },
        "id": "BDndIlAUSRZH",
        "outputId": "c33ede76-a517-4b5f-9b7b-4733b6b3cf84"
      },
      "source": [
        "for c in ds1.columns:\n",
        "  print(f\"Column: {c}\\n\")\n",
        "  print(ds1[c].value_counts())\n",
        "  print(\"---\\n\")"
      ],
      "execution_count": 32,
      "outputs": [
        {
          "output_type": "stream",
          "name": "stdout",
          "text": [
            "Column: Symboling\n",
            "\n",
            " 0    67\n",
            " 1    54\n",
            " 2    32\n",
            " 3    27\n",
            "-1    22\n",
            "-2     3\n",
            "Name: Symboling, dtype: int64\n",
            "---\n",
            "\n",
            "Column: Car_Name\n",
            "\n",
            "peugeot 504              6\n",
            "toyota corona            6\n",
            "toyota corolla           6\n",
            "subaru dl                4\n",
            "mitsubishi g4            3\n",
            "                        ..\n",
            "buick century special    1\n",
            "honda prelude            1\n",
            "chevrolet monte carlo    1\n",
            "bmw x1                   1\n",
            "audi 5000                1\n",
            "Name: Car_Name, Length: 147, dtype: int64\n",
            "---\n",
            "\n",
            "Column: Fuel_Type\n",
            "\n",
            "gas       185\n",
            "diesel     20\n",
            "Name: Fuel_Type, dtype: int64\n",
            "---\n",
            "\n",
            "Column: Aspiration\n",
            "\n",
            "std      168\n",
            "turbo     37\n",
            "Name: Aspiration, dtype: int64\n",
            "---\n",
            "\n",
            "Column: Door_Number\n",
            "\n",
            "four    115\n",
            "two      90\n",
            "Name: Door_Number, dtype: int64\n",
            "---\n",
            "\n",
            "Column: Car_Body\n",
            "\n",
            "sedan          96\n",
            "hatchback      70\n",
            "wagon          25\n",
            "hardtop         8\n",
            "convertible     6\n",
            "Name: Car_Body, dtype: int64\n",
            "---\n",
            "\n",
            "Column: Drive_Wheel\n",
            "\n",
            "fwd    120\n",
            "rwd     76\n",
            "4wd      9\n",
            "Name: Drive_Wheel, dtype: int64\n",
            "---\n",
            "\n",
            "Column: Engine_Location\n",
            "\n",
            "front    202\n",
            "rear       3\n",
            "Name: Engine_Location, dtype: int64\n",
            "---\n",
            "\n",
            "Column: Wheel_Base\n",
            "\n",
            "94.5     21\n",
            "93.7     20\n",
            "95.7     13\n",
            "96.5      8\n",
            "98.4      7\n",
            "97.3      7\n",
            "96.3      6\n",
            "107.9     6\n",
            "98.8      6\n",
            "99.1      6\n",
            "104.3     6\n",
            "100.4     6\n",
            "93.1      5\n",
            "97.2      5\n",
            "102.4     5\n",
            "109.1     5\n",
            "95.9      5\n",
            "101.2     4\n",
            "97.0      4\n",
            "114.2     4\n",
            "95.3      4\n",
            "105.8     3\n",
            "103.5     3\n",
            "110.0     3\n",
            "89.5      3\n",
            "99.8      2\n",
            "86.6      2\n",
            "113.0     2\n",
            "104.5     2\n",
            "104.9     2\n",
            "88.6      2\n",
            "96.9      2\n",
            "91.3      2\n",
            "115.6     2\n",
            "102.9     2\n",
            "96.1      2\n",
            "103.3     2\n",
            "112.0     1\n",
            "99.5      1\n",
            "88.4      1\n",
            "99.2      1\n",
            "96.0      1\n",
            "102.0     1\n",
            "106.7     1\n",
            "93.0      1\n",
            "99.4      1\n",
            "93.3      1\n",
            "102.7     1\n",
            "120.9     1\n",
            "95.1      1\n",
            "96.6      1\n",
            "94.3      1\n",
            "108.0     1\n",
            "Name: Wheel_Base, dtype: int64\n",
            "---\n",
            "\n",
            "Column: Car_Length\n",
            "\n",
            "157.3    15\n",
            "188.8    11\n",
            "166.3     7\n",
            "171.7     7\n",
            "186.7     7\n",
            "         ..\n",
            "157.9     1\n",
            "177.3     1\n",
            "175.7     1\n",
            "193.8     1\n",
            "183.1     1\n",
            "Name: Car_Length, Length: 75, dtype: int64\n",
            "---\n",
            "\n",
            "Column: Car_Width\n",
            "\n",
            "63.8    24\n",
            "66.5    23\n",
            "65.4    15\n",
            "63.6    11\n",
            "64.4    10\n",
            "68.4    10\n",
            "64.0     9\n",
            "65.5     8\n",
            "65.2     7\n",
            "66.3     6\n",
            "64.2     6\n",
            "67.2     6\n",
            "65.6     6\n",
            "67.9     5\n",
            "66.9     5\n",
            "68.9     4\n",
            "64.8     4\n",
            "65.7     4\n",
            "65.0     3\n",
            "63.9     3\n",
            "71.4     3\n",
            "71.7     3\n",
            "70.3     3\n",
            "64.6     2\n",
            "64.1     2\n",
            "67.7     2\n",
            "66.1     2\n",
            "68.3     2\n",
            "69.6     2\n",
            "61.8     1\n",
            "72.0     1\n",
            "68.8     1\n",
            "62.5     1\n",
            "66.0     1\n",
            "63.4     1\n",
            "70.5     1\n",
            "72.3     1\n",
            "68.0     1\n",
            "70.9     1\n",
            "66.2     1\n",
            "66.4     1\n",
            "60.3     1\n",
            "70.6     1\n",
            "66.6     1\n",
            "Name: Car_Width, dtype: int64\n",
            "---\n",
            "\n",
            "Column: Car_Height\n",
            "\n",
            "50.8    14\n",
            "52.0    12\n",
            "55.7    12\n",
            "54.5    10\n",
            "54.1    10\n",
            "55.5     9\n",
            "56.7     8\n",
            "54.3     8\n",
            "51.6     7\n",
            "56.1     7\n",
            "52.6     7\n",
            "50.2     6\n",
            "53.0     6\n",
            "54.9     6\n",
            "52.8     6\n",
            "53.7     5\n",
            "55.1     5\n",
            "50.6     5\n",
            "53.3     4\n",
            "58.7     4\n",
            "49.6     4\n",
            "57.5     3\n",
            "53.5     3\n",
            "49.7     3\n",
            "59.1     3\n",
            "56.2     3\n",
            "52.5     3\n",
            "49.4     2\n",
            "48.8     2\n",
            "56.3     2\n",
            "54.4     2\n",
            "59.8     2\n",
            "56.5     2\n",
            "54.7     2\n",
            "51.4     2\n",
            "53.9     2\n",
            "50.5     2\n",
            "56.0     1\n",
            "51.0     1\n",
            "52.4     1\n",
            "55.4     1\n",
            "55.6     1\n",
            "53.1     1\n",
            "58.3     1\n",
            "47.8     1\n",
            "54.8     1\n",
            "55.9     1\n",
            "53.2     1\n",
            "55.2     1\n",
            "Name: Car_Height, dtype: int64\n",
            "---\n",
            "\n",
            "Column: Curb_Weight\n",
            "\n",
            "2385    4\n",
            "1989    3\n",
            "1918    3\n",
            "2275    3\n",
            "3230    2\n",
            "       ..\n",
            "3750    1\n",
            "1956    1\n",
            "2037    1\n",
            "2465    1\n",
            "2304    1\n",
            "Name: Curb_Weight, Length: 171, dtype: int64\n",
            "---\n",
            "\n",
            "Column: Engine_Type\n",
            "\n",
            "ohc      148\n",
            "ohcf      15\n",
            "ohcv      13\n",
            "l         12\n",
            "dohc      12\n",
            "rotor      4\n",
            "dohcv      1\n",
            "Name: Engine_Type, dtype: int64\n",
            "---\n",
            "\n",
            "Column: Cylinder_Type\n",
            "\n",
            "four      159\n",
            "six        24\n",
            "five       11\n",
            "eight       5\n",
            "two         4\n",
            "twelve      1\n",
            "three       1\n",
            "Name: Cylinder_Type, dtype: int64\n",
            "---\n",
            "\n",
            "Column: Engine_Size\n",
            "\n",
            "122    15\n",
            "92     15\n",
            "98     14\n",
            "97     14\n",
            "108    13\n",
            "90     12\n",
            "110    12\n",
            "109     8\n",
            "120     7\n",
            "141     7\n",
            "152     6\n",
            "121     6\n",
            "146     6\n",
            "181     6\n",
            "91      5\n",
            "156     5\n",
            "136     5\n",
            "130     4\n",
            "183     4\n",
            "194     3\n",
            "164     3\n",
            "171     3\n",
            "209     3\n",
            "70      3\n",
            "234     2\n",
            "131     2\n",
            "134     2\n",
            "140     2\n",
            "258     2\n",
            "132     2\n",
            "111     1\n",
            "103     1\n",
            "145     1\n",
            "151     1\n",
            "119     1\n",
            "173     1\n",
            "203     1\n",
            "80      1\n",
            "79      1\n",
            "326     1\n",
            "61      1\n",
            "308     1\n",
            "304     1\n",
            "161     1\n",
            "Name: Engine_Size, dtype: int64\n",
            "---\n",
            "\n",
            "Column: Fuel_System\n",
            "\n",
            "mpfi    94\n",
            "2bbl    66\n",
            "idi     20\n",
            "1bbl    11\n",
            "spdi     9\n",
            "4bbl     3\n",
            "mfi      1\n",
            "spfi     1\n",
            "Name: Fuel_System, dtype: int64\n",
            "---\n",
            "\n",
            "Column: Bore_Ratio\n",
            "\n",
            "3.62    23\n",
            "3.19    20\n",
            "3.15    15\n",
            "2.97    12\n",
            "3.03    12\n",
            "3.46     9\n",
            "3.78     8\n",
            "3.43     8\n",
            "3.31     8\n",
            "3.27     7\n",
            "2.91     7\n",
            "3.33     6\n",
            "3.39     6\n",
            "3.54     6\n",
            "3.05     6\n",
            "3.58     6\n",
            "3.01     5\n",
            "3.70     5\n",
            "3.35     4\n",
            "3.17     3\n",
            "3.59     3\n",
            "3.74     3\n",
            "3.13     2\n",
            "3.24     2\n",
            "3.63     2\n",
            "3.80     2\n",
            "3.94     2\n",
            "3.47     2\n",
            "3.50     2\n",
            "3.61     1\n",
            "2.92     1\n",
            "3.08     1\n",
            "2.99     1\n",
            "3.76     1\n",
            "2.68     1\n",
            "3.34     1\n",
            "3.60     1\n",
            "2.54     1\n",
            "Name: Bore_Ratio, dtype: int64\n",
            "---\n",
            "\n",
            "Column: Stroke\n",
            "\n",
            "3.400    20\n",
            "3.030    14\n",
            "3.150    14\n",
            "3.230    14\n",
            "3.390    13\n",
            "2.640    11\n",
            "3.350     9\n",
            "3.290     9\n",
            "3.460     8\n",
            "3.410     6\n",
            "3.190     6\n",
            "3.070     6\n",
            "3.110     6\n",
            "3.580     6\n",
            "3.270     6\n",
            "3.500     6\n",
            "3.520     5\n",
            "3.640     5\n",
            "3.860     4\n",
            "3.470     4\n",
            "3.255     4\n",
            "3.540     4\n",
            "3.900     3\n",
            "2.900     3\n",
            "3.100     2\n",
            "3.080     2\n",
            "2.800     2\n",
            "2.680     2\n",
            "2.190     2\n",
            "4.170     2\n",
            "3.160     1\n",
            "2.070     1\n",
            "2.760     1\n",
            "3.120     1\n",
            "2.870     1\n",
            "3.210     1\n",
            "2.360     1\n",
            "Name: Stroke, dtype: int64\n",
            "---\n",
            "\n",
            "Column: Compression_Ratio\n",
            "\n",
            "9.00     46\n",
            "9.40     26\n",
            "8.50     14\n",
            "9.50     13\n",
            "9.30     11\n",
            "8.70      9\n",
            "9.20      8\n",
            "8.00      8\n",
            "7.00      7\n",
            "21.00     5\n",
            "7.50      5\n",
            "9.60      5\n",
            "23.00     5\n",
            "8.40      5\n",
            "8.60      5\n",
            "21.50     4\n",
            "7.60      4\n",
            "10.00     3\n",
            "22.50     3\n",
            "8.30      3\n",
            "8.80      3\n",
            "7.70      2\n",
            "8.10      2\n",
            "9.31      1\n",
            "21.90     1\n",
            "22.00     1\n",
            "11.50     1\n",
            "9.41      1\n",
            "10.10     1\n",
            "9.10      1\n",
            "22.70     1\n",
            "7.80      1\n",
            "Name: Compression_Ratio, dtype: int64\n",
            "---\n",
            "\n",
            "Column: Horse_Power\n",
            "\n",
            "68     19\n",
            "70     11\n",
            "69     10\n",
            "116     9\n",
            "110     8\n",
            "95      7\n",
            "88      6\n",
            "62      6\n",
            "160     6\n",
            "101     6\n",
            "114     6\n",
            "102     5\n",
            "90      5\n",
            "82      5\n",
            "145     5\n",
            "84      5\n",
            "76      5\n",
            "97      5\n",
            "123     4\n",
            "86      4\n",
            "92      4\n",
            "111     4\n",
            "85      3\n",
            "73      3\n",
            "207     3\n",
            "182     3\n",
            "121     3\n",
            "152     3\n",
            "112     2\n",
            "184     2\n",
            "162     2\n",
            "161     2\n",
            "156     2\n",
            "155     2\n",
            "176     2\n",
            "94      2\n",
            "56      2\n",
            "100     2\n",
            "52      2\n",
            "175     1\n",
            "60      1\n",
            "64      1\n",
            "55      1\n",
            "48      1\n",
            "288     1\n",
            "58      1\n",
            "78      1\n",
            "72      1\n",
            "115     1\n",
            "154     1\n",
            "143     1\n",
            "142     1\n",
            "140     1\n",
            "135     1\n",
            "134     1\n",
            "200     1\n",
            "106     1\n",
            "120     1\n",
            "262     1\n",
            "Name: Horse_Power, dtype: int64\n",
            "---\n",
            "\n",
            "Column: Peak_RPM\n",
            "\n",
            "5500    37\n",
            "4800    36\n",
            "5000    27\n",
            "5200    23\n",
            "5400    13\n",
            "6000     9\n",
            "5250     7\n",
            "5800     7\n",
            "4500     7\n",
            "4150     5\n",
            "4200     5\n",
            "5100     5\n",
            "4350     4\n",
            "4750     4\n",
            "4250     3\n",
            "4400     3\n",
            "5900     3\n",
            "6600     2\n",
            "5750     1\n",
            "5300     1\n",
            "4650     1\n",
            "4900     1\n",
            "5600     1\n",
            "Name: Peak_RPM, dtype: int64\n",
            "---\n",
            "\n",
            "Column: City_MPG\n",
            "\n",
            "31    28\n",
            "19    27\n",
            "24    22\n",
            "27    14\n",
            "17    13\n",
            "26    12\n",
            "23    12\n",
            "21     8\n",
            "30     8\n",
            "25     8\n",
            "38     7\n",
            "28     7\n",
            "37     6\n",
            "16     6\n",
            "22     4\n",
            "15     3\n",
            "18     3\n",
            "29     3\n",
            "20     3\n",
            "14     2\n",
            "49     1\n",
            "47     1\n",
            "32     1\n",
            "33     1\n",
            "34     1\n",
            "35     1\n",
            "36     1\n",
            "45     1\n",
            "13     1\n",
            "Name: City_MPG, dtype: int64\n",
            "---\n",
            "\n",
            "Column: Highway_MPG\n",
            "\n",
            "25    19\n",
            "24    17\n",
            "38    17\n",
            "30    16\n",
            "32    16\n",
            "34    14\n",
            "37    13\n",
            "28    13\n",
            "29    10\n",
            "33     9\n",
            "31     8\n",
            "22     8\n",
            "23     7\n",
            "27     5\n",
            "43     4\n",
            "41     3\n",
            "42     3\n",
            "26     3\n",
            "20     2\n",
            "19     2\n",
            "18     2\n",
            "16     2\n",
            "36     2\n",
            "39     2\n",
            "46     2\n",
            "47     2\n",
            "53     1\n",
            "50     1\n",
            "17     1\n",
            "54     1\n",
            "Name: Highway_MPG, dtype: int64\n",
            "---\n",
            "\n",
            "Column: Price\n",
            "\n",
            "5572.0     2\n",
            "6692.0     2\n",
            "7957.0     2\n",
            "7898.0     2\n",
            "6229.0     2\n",
            "          ..\n",
            "6377.0     1\n",
            "30760.0    1\n",
            "16925.0    1\n",
            "15998.0    1\n",
            "18920.0    1\n",
            "Name: Price, Length: 189, dtype: int64\n",
            "---\n",
            "\n"
          ]
        }
      ]
    },
    {
      "cell_type": "markdown",
      "metadata": {
        "id": "AQM3FF8MTrEt"
      },
      "source": [
        "After exploring the Features, the dataset looks clean. I see an opportunity to engineer two features from the Car_Name and that is the Car_Manufacturer and Car_Model "
      ]
    },
    {
      "cell_type": "code",
      "metadata": {
        "id": "aMEIt6CLUHoZ"
      },
      "source": [
        "car_manufacturer = pd.Series(ds1[\"Car_Name\"].map(lambda x:x.split(\" \")[0]),name=\"Car_Manufacturer\")\n",
        "car_model = pd.Series(ds1[\"Car_Name\"].map(lambda x:\" \".join(x.split(\" \")[1:])),name=\"Car_Model\")\n",
        "df = pd.concat([car_manufacturer,car_model,ds1],axis=1)\n",
        "df.drop(columns=\"Car_Name\",inplace=True)"
      ],
      "execution_count": 71,
      "outputs": []
    },
    {
      "cell_type": "markdown",
      "metadata": {
        "id": "9yBh_ApAdI5l"
      },
      "source": [
        "There are some inconsistent values for Car_Manufacturer"
      ]
    },
    {
      "cell_type": "code",
      "metadata": {
        "colab": {
          "base_uri": "https://localhost:8080/"
        },
        "id": "A08_1GnJdknc",
        "outputId": "e2c35b6a-29e1-433e-f174-baad187730e7"
      },
      "source": [
        "df[\"Car_Manufacturer\"].value_counts()"
      ],
      "execution_count": 73,
      "outputs": [
        {
          "output_type": "execute_result",
          "data": {
            "text/plain": [
              "toyota         31\n",
              "nissan         17\n",
              "mazda          15\n",
              "honda          13\n",
              "mitsubishi     13\n",
              "subaru         12\n",
              "volvo          11\n",
              "peugeot        11\n",
              "dodge           9\n",
              "volkswagen      9\n",
              "bmw             8\n",
              "buick           8\n",
              "plymouth        7\n",
              "audi            7\n",
              "saab            6\n",
              "porsche         4\n",
              "isuzu           4\n",
              "chevrolet       3\n",
              "alfa-romero     3\n",
              "jaguar          3\n",
              "renault         2\n",
              "vw              2\n",
              "maxda           2\n",
              "toyouta         1\n",
              "Nissan          1\n",
              "mercury         1\n",
              "porcshce        1\n",
              "vokswagen       1\n",
              "Name: Car_Manufacturer, dtype: int64"
            ]
          },
          "metadata": {},
          "execution_count": 73
        }
      ]
    },
    {
      "cell_type": "code",
      "metadata": {
        "id": "XoMR2IuMdtAW"
      },
      "source": [
        "f1 = (df[\"Car_Manufacturer\"]==\"vw\") | (df[\"Car_Manufacturer\"]==\"vokswagen\")\n",
        "f2 = df[\"Car_Manufacturer\"]==\"maxda\"\n",
        "f3 = df[\"Car_Manufacturer\"]==\"toyouta\"\n",
        "f4 = df[\"Car_Manufacturer\"]==\"Nissan\"\n",
        "f5 = df[\"Car_Manufacturer\"]==\"porcshce\""
      ],
      "execution_count": 75,
      "outputs": []
    },
    {
      "cell_type": "code",
      "metadata": {
        "id": "rpSOGuuneT-c"
      },
      "source": [
        "df.loc[f1,[\"Car_Manufacturer\"]] = \"volkswagen\"\n",
        "df.loc[f2,[\"Car_Manufacturer\"]] = \"mazda\"\n",
        "df.loc[f3,[\"Car_Manufacturer\"]] = \"toyota\"\n",
        "df.loc[f4,[\"Car_Manufacturer\"]] = \"nissan\"\n",
        "df.loc[f5,[\"Car_Manufacturer\"]] = \"porsche\""
      ],
      "execution_count": 76,
      "outputs": []
    },
    {
      "cell_type": "code",
      "metadata": {
        "colab": {
          "base_uri": "https://localhost:8080/",
          "height": 551
        },
        "id": "WPGc3cfAhUSR",
        "outputId": "202d8532-9943-4354-f7f8-6f78a1dc9671"
      },
      "source": [
        "df.loc[df[\"Car_Manufacturer\"]==\"subaru\",[\"Car_Model\"]]"
      ],
      "execution_count": 88,
      "outputs": [
        {
          "output_type": "execute_result",
          "data": {
            "text/html": [
              "<div>\n",
              "<style scoped>\n",
              "    .dataframe tbody tr th:only-of-type {\n",
              "        vertical-align: middle;\n",
              "    }\n",
              "\n",
              "    .dataframe tbody tr th {\n",
              "        vertical-align: top;\n",
              "    }\n",
              "\n",
              "    .dataframe thead th {\n",
              "        text-align: right;\n",
              "    }\n",
              "</style>\n",
              "<table border=\"1\" class=\"dataframe\">\n",
              "  <thead>\n",
              "    <tr style=\"text-align: right;\">\n",
              "      <th></th>\n",
              "      <th>Car_Model</th>\n",
              "    </tr>\n",
              "    <tr>\n",
              "      <th>Car_ID</th>\n",
              "      <th></th>\n",
              "    </tr>\n",
              "  </thead>\n",
              "  <tbody>\n",
              "    <tr>\n",
              "      <th>139</th>\n",
              "      <td></td>\n",
              "    </tr>\n",
              "    <tr>\n",
              "      <th>140</th>\n",
              "      <td>dl</td>\n",
              "    </tr>\n",
              "    <tr>\n",
              "      <th>141</th>\n",
              "      <td>dl</td>\n",
              "    </tr>\n",
              "    <tr>\n",
              "      <th>142</th>\n",
              "      <td></td>\n",
              "    </tr>\n",
              "    <tr>\n",
              "      <th>143</th>\n",
              "      <td>brz</td>\n",
              "    </tr>\n",
              "    <tr>\n",
              "      <th>144</th>\n",
              "      <td>baja</td>\n",
              "    </tr>\n",
              "    <tr>\n",
              "      <th>145</th>\n",
              "      <td>r1</td>\n",
              "    </tr>\n",
              "    <tr>\n",
              "      <th>146</th>\n",
              "      <td>r2</td>\n",
              "    </tr>\n",
              "    <tr>\n",
              "      <th>147</th>\n",
              "      <td>trezia</td>\n",
              "    </tr>\n",
              "    <tr>\n",
              "      <th>148</th>\n",
              "      <td>tribeca</td>\n",
              "    </tr>\n",
              "    <tr>\n",
              "      <th>149</th>\n",
              "      <td>dl</td>\n",
              "    </tr>\n",
              "    <tr>\n",
              "      <th>150</th>\n",
              "      <td>dl</td>\n",
              "    </tr>\n",
              "    <tr>\n",
              "      <th>183</th>\n",
              "      <td>rabbit</td>\n",
              "    </tr>\n",
              "    <tr>\n",
              "      <th>190</th>\n",
              "      <td>dasher</td>\n",
              "    </tr>\n",
              "    <tr>\n",
              "      <th>191</th>\n",
              "      <td>rabbit</td>\n",
              "    </tr>\n",
              "  </tbody>\n",
              "</table>\n",
              "</div>"
            ],
            "text/plain": [
              "       Car_Model\n",
              "Car_ID          \n",
              "139             \n",
              "140           dl\n",
              "141           dl\n",
              "142             \n",
              "143          brz\n",
              "144         baja\n",
              "145           r1\n",
              "146           r2\n",
              "147       trezia\n",
              "148      tribeca\n",
              "149           dl\n",
              "150           dl\n",
              "183       rabbit\n",
              "190       dasher\n",
              "191       rabbit"
            ]
          },
          "metadata": {},
          "execution_count": 88
        }
      ]
    },
    {
      "cell_type": "markdown",
      "metadata": {
        "id": "24dwaw_8fPpY"
      },
      "source": [
        "There are some inconsistent values for Car_Model"
      ]
    },
    {
      "cell_type": "code",
      "metadata": {
        "colab": {
          "base_uri": "https://localhost:8080/"
        },
        "id": "6fvhfrLpfOQI",
        "outputId": "558b1c33-74f2-4468-c529-3390b9ff40da"
      },
      "source": [
        "for car in list(df[\"Car_Manufacturer\"].value_counts().index):\n",
        "  print(f\"Car: {car}\")\n",
        "  print(f\"{df.loc[df['Car_Manufacturer']==car,['Car_Model']].value_counts()}\\n\")\n",
        "  print(\"---\\n\")"
      ],
      "execution_count": 85,
      "outputs": [
        {
          "output_type": "stream",
          "name": "stdout",
          "text": [
            "Car: toyota\n",
            "Car_Model         \n",
            "corona                6\n",
            "corolla               6\n",
            "mark ii               3\n",
            "tercel                2\n",
            "starlet               2\n",
            "corolla liftback      2\n",
            "corolla 1200          2\n",
            "cressida              1\n",
            "corona mark ii        1\n",
            "corona liftback       1\n",
            "corona hardtop        1\n",
            "corolla tercel        1\n",
            "corolla 1600 (sw)     1\n",
            "celica gt liftback    1\n",
            "celica gt             1\n",
            "carina                1\n",
            "dtype: int64\n",
            "\n",
            "---\n",
            "\n",
            "Car: nissan\n",
            "Car_Model\n",
            "rogue        2\n",
            "latio        2\n",
            "clipper      2\n",
            "versa        1\n",
            "titan        1\n",
            "teana        1\n",
            "otti         1\n",
            "nv200        1\n",
            "note         1\n",
            "leaf         1\n",
            "kicks        1\n",
            "juke         1\n",
            "gt-r         1\n",
            "fuga         1\n",
            "dayz         1\n",
            "dtype: int64\n",
            "\n",
            "---\n",
            "\n",
            "Car: mazda\n",
            "Car_Model   \n",
            "glc deluxe      3\n",
            "626             3\n",
            "rx-7 gs         2\n",
            "rx-4            2\n",
            "glc             2\n",
            "rx3             1\n",
            "rx2 coupe       1\n",
            "glc custom l    1\n",
            "glc custom      1\n",
            "glc 4           1\n",
            "dtype: int64\n",
            "\n",
            "---\n",
            "\n",
            "Car: honda\n",
            "Car_Model    \n",
            "civic            3\n",
            "civic cvcc       2\n",
            "accord           2\n",
            "prelude          1\n",
            "civic 1500 gl    1\n",
            "civic 1300       1\n",
            "civic (auto)     1\n",
            "accord lx        1\n",
            "accord cvcc      1\n",
            "dtype: int64\n",
            "\n",
            "---\n",
            "\n",
            "Car: mitsubishi\n",
            "Car_Model\n",
            "outlander    3\n",
            "mirage g4    3\n",
            "g4           3\n",
            "pajero       1\n",
            "montero      1\n",
            "mirage       1\n",
            "lancer       1\n",
            "dtype: int64\n",
            "\n",
            "---\n",
            "\n",
            "Car: subaru\n",
            "Car_Model\n",
            "dl           4\n",
            "             2\n",
            "tribeca      1\n",
            "trezia       1\n",
            "r2           1\n",
            "r1           1\n",
            "brz          1\n",
            "baja         1\n",
            "dtype: int64\n",
            "\n",
            "---\n",
            "\n",
            "Car: volkswagen\n",
            "Car_Model        \n",
            "rabbit               3\n",
            "dasher               3\n",
            "type 3               1\n",
            "super beetle         1\n",
            "rabbit custom        1\n",
            "model 111            1\n",
            "411 (sw)             1\n",
            "1131 deluxe sedan    1\n",
            "dtype: int64\n",
            "\n",
            "---\n",
            "\n",
            "Car: peugeot\n",
            "Car_Model        \n",
            "504                  6\n",
            "604sl                2\n",
            "505s turbo diesel    1\n",
            "504 (sw)             1\n",
            "304                  1\n",
            "dtype: int64\n",
            "\n",
            "---\n",
            "\n",
            "Car: volvo\n",
            "Car_Model\n",
            "264gl        2\n",
            "244dl        2\n",
            "145e (sw)    2\n",
            "144ea        2\n",
            "diesel       1\n",
            "246          1\n",
            "245          1\n",
            "dtype: int64\n",
            "\n",
            "---\n",
            "\n",
            "Car: dodge\n",
            "Car_Model          \n",
            "rampage                1\n",
            "monaco (sw)            1\n",
            "dart custom            1\n",
            "d200                   1\n",
            "coronet custom (sw)    1\n",
            "coronet custom         1\n",
            "colt hardtop           1\n",
            "colt (sw)              1\n",
            "challenger se          1\n",
            "dtype: int64\n",
            "\n",
            "---\n",
            "\n",
            "Car: buick\n",
            "Car_Model                \n",
            "skylark                      1\n",
            "skyhawk                      1\n",
            "regal sport coupe (turbo)    1\n",
            "opel isuzu deluxe            1\n",
            "electra 225 custom           1\n",
            "century special              1\n",
            "century luxus (sw)           1\n",
            "century                      1\n",
            "dtype: int64\n",
            "\n",
            "---\n",
            "\n",
            "Car: bmw\n",
            "Car_Model\n",
            "x3           2\n",
            "320i         2\n",
            "z4           1\n",
            "x5           1\n",
            "x4           1\n",
            "x1           1\n",
            "dtype: int64\n",
            "\n",
            "---\n",
            "\n",
            "Car: plymouth\n",
            "Car_Model            \n",
            "fury iii                 2\n",
            "valiant                  1\n",
            "satellite custom (sw)    1\n",
            "fury gran sedan          1\n",
            "duster                   1\n",
            "cricket                  1\n",
            "dtype: int64\n",
            "\n",
            "---\n",
            "\n",
            "Car: audi\n",
            "Car_Model     \n",
            "100ls             2\n",
            "fox               1\n",
            "5000s (diesel)    1\n",
            "5000              1\n",
            "4000              1\n",
            "100 ls            1\n",
            "dtype: int64\n",
            "\n",
            "---\n",
            "\n",
            "Car: saab\n",
            "Car_Model\n",
            "99le         2\n",
            "99gle        2\n",
            "99e          2\n",
            "dtype: int64\n",
            "\n",
            "---\n",
            "\n",
            "Car: porsche\n",
            "Car_Model\n",
            "cayenne      2\n",
            "panamera     1\n",
            "macan        1\n",
            "boxter       1\n",
            "dtype: int64\n",
            "\n",
            "---\n",
            "\n",
            "Car: isuzu\n",
            "Car_Model    \n",
            "D-Max            2\n",
            "MU-X             1\n",
            "D-Max V-Cross    1\n",
            "dtype: int64\n",
            "\n",
            "---\n",
            "\n",
            "Car: chevrolet\n",
            "Car_Model  \n",
            "vega 2300      1\n",
            "monte carlo    1\n",
            "impala         1\n",
            "dtype: int64\n",
            "\n",
            "---\n",
            "\n",
            "Car: alfa-romero\n",
            "Car_Model   \n",
            "stelvio         1\n",
            "giulia          1\n",
            "Quadrifoglio    1\n",
            "dtype: int64\n",
            "\n",
            "---\n",
            "\n",
            "Car: jaguar\n",
            "Car_Model\n",
            "xk           1\n",
            "xj           1\n",
            "xf           1\n",
            "dtype: int64\n",
            "\n",
            "---\n",
            "\n",
            "Car: renault\n",
            "Car_Model\n",
            "5 gtl        1\n",
            "12tl         1\n",
            "dtype: int64\n",
            "\n",
            "---\n",
            "\n",
            "Car: mercury\n",
            "Car_Model\n",
            "cougar       1\n",
            "dtype: int64\n",
            "\n",
            "---\n",
            "\n"
          ]
        }
      ]
    },
    {
      "cell_type": "markdown",
      "metadata": {
        "id": "8SunNFgyjQ1_"
      },
      "source": [
        "It seems we can improve on two cars: Audi \"100ls\" and \"100 ls\". Also Subaru has two empty values that need to be filled"
      ]
    },
    {
      "cell_type": "code",
      "metadata": {
        "id": "5w-I8z3fjPj9"
      },
      "source": [
        "df.loc[df[\"Car_Model\"]==\"100 ls\",[\"Car_Model\"]] = \"100ls\"\n",
        "df.loc[(df[\"Car_Manufacturer\"]==\"subaru\") & (df[\"Car_Model\"]==\"\"),[\"Car_Model\"]] = \"unknown\""
      ],
      "execution_count": 93,
      "outputs": []
    },
    {
      "cell_type": "code",
      "metadata": {
        "colab": {
          "base_uri": "https://localhost:8080/"
        },
        "id": "oY9GdMJmfdTx",
        "outputId": "49a26cbd-de5a-4da5-b1b5-d4fceb52ab64"
      },
      "source": [
        "df.loc[df['Car_Manufacturer']==\"audi\",['Car_Model']].value_counts()"
      ],
      "execution_count": 91,
      "outputs": [
        {
          "output_type": "execute_result",
          "data": {
            "text/plain": [
              "Car_Model     \n",
              "100ls             3\n",
              "fox               1\n",
              "5000s (diesel)    1\n",
              "5000              1\n",
              "4000              1\n",
              "dtype: int64"
            ]
          },
          "metadata": {},
          "execution_count": 91
        }
      ]
    },
    {
      "cell_type": "code",
      "metadata": {
        "colab": {
          "base_uri": "https://localhost:8080/"
        },
        "id": "FyFD75-KkVQl",
        "outputId": "3ce62d49-c76b-4226-dad0-f5a796814d83"
      },
      "source": [
        "df.loc[df['Car_Manufacturer']==\"subaru\",['Car_Model']].value_counts()"
      ],
      "execution_count": 94,
      "outputs": [
        {
          "output_type": "execute_result",
          "data": {
            "text/plain": [
              "Car_Model\n",
              "dl           4\n",
              "unknown      2\n",
              "rabbit       2\n",
              "tribeca      1\n",
              "trezia       1\n",
              "r2           1\n",
              "r1           1\n",
              "dasher       1\n",
              "brz          1\n",
              "baja         1\n",
              "dtype: int64"
            ]
          },
          "metadata": {},
          "execution_count": 94
        }
      ]
    },
    {
      "cell_type": "markdown",
      "metadata": {
        "id": "SlkTVVEjktSK"
      },
      "source": [
        "Data is clean and ready for visualization."
      ]
    },
    {
      "cell_type": "markdown",
      "metadata": {
        "id": "DAp27HLVlEvp"
      },
      "source": [
        "### Exploratory Data Analysis (univariate)"
      ]
    },
    {
      "cell_type": "code",
      "metadata": {
        "colab": {
          "base_uri": "https://localhost:8080/",
          "height": 257
        },
        "id": "W3KtI9ehlIrQ",
        "outputId": "fc4c79d6-af58-42f2-9bae-991871785c20"
      },
      "source": [
        "df.head()"
      ],
      "execution_count": 95,
      "outputs": [
        {
          "output_type": "execute_result",
          "data": {
            "text/html": [
              "<div>\n",
              "<style scoped>\n",
              "    .dataframe tbody tr th:only-of-type {\n",
              "        vertical-align: middle;\n",
              "    }\n",
              "\n",
              "    .dataframe tbody tr th {\n",
              "        vertical-align: top;\n",
              "    }\n",
              "\n",
              "    .dataframe thead th {\n",
              "        text-align: right;\n",
              "    }\n",
              "</style>\n",
              "<table border=\"1\" class=\"dataframe\">\n",
              "  <thead>\n",
              "    <tr style=\"text-align: right;\">\n",
              "      <th></th>\n",
              "      <th>Car_Manufacturer</th>\n",
              "      <th>Car_Model</th>\n",
              "      <th>Symboling</th>\n",
              "      <th>Fuel_Type</th>\n",
              "      <th>Aspiration</th>\n",
              "      <th>Door_Number</th>\n",
              "      <th>Car_Body</th>\n",
              "      <th>Drive_Wheel</th>\n",
              "      <th>Engine_Location</th>\n",
              "      <th>Wheel_Base</th>\n",
              "      <th>Car_Length</th>\n",
              "      <th>Car_Width</th>\n",
              "      <th>Car_Height</th>\n",
              "      <th>Curb_Weight</th>\n",
              "      <th>Engine_Type</th>\n",
              "      <th>Cylinder_Type</th>\n",
              "      <th>Engine_Size</th>\n",
              "      <th>Fuel_System</th>\n",
              "      <th>Bore_Ratio</th>\n",
              "      <th>Stroke</th>\n",
              "      <th>Compression_Ratio</th>\n",
              "      <th>Horse_Power</th>\n",
              "      <th>Peak_RPM</th>\n",
              "      <th>City_MPG</th>\n",
              "      <th>Highway_MPG</th>\n",
              "      <th>Price</th>\n",
              "    </tr>\n",
              "    <tr>\n",
              "      <th>Car_ID</th>\n",
              "      <th></th>\n",
              "      <th></th>\n",
              "      <th></th>\n",
              "      <th></th>\n",
              "      <th></th>\n",
              "      <th></th>\n",
              "      <th></th>\n",
              "      <th></th>\n",
              "      <th></th>\n",
              "      <th></th>\n",
              "      <th></th>\n",
              "      <th></th>\n",
              "      <th></th>\n",
              "      <th></th>\n",
              "      <th></th>\n",
              "      <th></th>\n",
              "      <th></th>\n",
              "      <th></th>\n",
              "      <th></th>\n",
              "      <th></th>\n",
              "      <th></th>\n",
              "      <th></th>\n",
              "      <th></th>\n",
              "      <th></th>\n",
              "      <th></th>\n",
              "      <th></th>\n",
              "    </tr>\n",
              "  </thead>\n",
              "  <tbody>\n",
              "    <tr>\n",
              "      <th>1</th>\n",
              "      <td>alfa-romero</td>\n",
              "      <td>giulia</td>\n",
              "      <td>3</td>\n",
              "      <td>gas</td>\n",
              "      <td>std</td>\n",
              "      <td>two</td>\n",
              "      <td>convertible</td>\n",
              "      <td>rwd</td>\n",
              "      <td>front</td>\n",
              "      <td>88.6</td>\n",
              "      <td>168.8</td>\n",
              "      <td>64.1</td>\n",
              "      <td>48.8</td>\n",
              "      <td>2548</td>\n",
              "      <td>dohc</td>\n",
              "      <td>four</td>\n",
              "      <td>130</td>\n",
              "      <td>mpfi</td>\n",
              "      <td>3.47</td>\n",
              "      <td>2.68</td>\n",
              "      <td>9.0</td>\n",
              "      <td>111</td>\n",
              "      <td>5000</td>\n",
              "      <td>21</td>\n",
              "      <td>27</td>\n",
              "      <td>13495.0</td>\n",
              "    </tr>\n",
              "    <tr>\n",
              "      <th>2</th>\n",
              "      <td>alfa-romero</td>\n",
              "      <td>stelvio</td>\n",
              "      <td>3</td>\n",
              "      <td>gas</td>\n",
              "      <td>std</td>\n",
              "      <td>two</td>\n",
              "      <td>convertible</td>\n",
              "      <td>rwd</td>\n",
              "      <td>front</td>\n",
              "      <td>88.6</td>\n",
              "      <td>168.8</td>\n",
              "      <td>64.1</td>\n",
              "      <td>48.8</td>\n",
              "      <td>2548</td>\n",
              "      <td>dohc</td>\n",
              "      <td>four</td>\n",
              "      <td>130</td>\n",
              "      <td>mpfi</td>\n",
              "      <td>3.47</td>\n",
              "      <td>2.68</td>\n",
              "      <td>9.0</td>\n",
              "      <td>111</td>\n",
              "      <td>5000</td>\n",
              "      <td>21</td>\n",
              "      <td>27</td>\n",
              "      <td>16500.0</td>\n",
              "    </tr>\n",
              "    <tr>\n",
              "      <th>3</th>\n",
              "      <td>alfa-romero</td>\n",
              "      <td>Quadrifoglio</td>\n",
              "      <td>1</td>\n",
              "      <td>gas</td>\n",
              "      <td>std</td>\n",
              "      <td>two</td>\n",
              "      <td>hatchback</td>\n",
              "      <td>rwd</td>\n",
              "      <td>front</td>\n",
              "      <td>94.5</td>\n",
              "      <td>171.2</td>\n",
              "      <td>65.5</td>\n",
              "      <td>52.4</td>\n",
              "      <td>2823</td>\n",
              "      <td>ohcv</td>\n",
              "      <td>six</td>\n",
              "      <td>152</td>\n",
              "      <td>mpfi</td>\n",
              "      <td>2.68</td>\n",
              "      <td>3.47</td>\n",
              "      <td>9.0</td>\n",
              "      <td>154</td>\n",
              "      <td>5000</td>\n",
              "      <td>19</td>\n",
              "      <td>26</td>\n",
              "      <td>16500.0</td>\n",
              "    </tr>\n",
              "    <tr>\n",
              "      <th>4</th>\n",
              "      <td>audi</td>\n",
              "      <td>100ls</td>\n",
              "      <td>2</td>\n",
              "      <td>gas</td>\n",
              "      <td>std</td>\n",
              "      <td>four</td>\n",
              "      <td>sedan</td>\n",
              "      <td>fwd</td>\n",
              "      <td>front</td>\n",
              "      <td>99.8</td>\n",
              "      <td>176.6</td>\n",
              "      <td>66.2</td>\n",
              "      <td>54.3</td>\n",
              "      <td>2337</td>\n",
              "      <td>ohc</td>\n",
              "      <td>four</td>\n",
              "      <td>109</td>\n",
              "      <td>mpfi</td>\n",
              "      <td>3.19</td>\n",
              "      <td>3.40</td>\n",
              "      <td>10.0</td>\n",
              "      <td>102</td>\n",
              "      <td>5500</td>\n",
              "      <td>24</td>\n",
              "      <td>30</td>\n",
              "      <td>13950.0</td>\n",
              "    </tr>\n",
              "    <tr>\n",
              "      <th>5</th>\n",
              "      <td>audi</td>\n",
              "      <td>100ls</td>\n",
              "      <td>2</td>\n",
              "      <td>gas</td>\n",
              "      <td>std</td>\n",
              "      <td>four</td>\n",
              "      <td>sedan</td>\n",
              "      <td>4wd</td>\n",
              "      <td>front</td>\n",
              "      <td>99.4</td>\n",
              "      <td>176.6</td>\n",
              "      <td>66.4</td>\n",
              "      <td>54.3</td>\n",
              "      <td>2824</td>\n",
              "      <td>ohc</td>\n",
              "      <td>five</td>\n",
              "      <td>136</td>\n",
              "      <td>mpfi</td>\n",
              "      <td>3.19</td>\n",
              "      <td>3.40</td>\n",
              "      <td>8.0</td>\n",
              "      <td>115</td>\n",
              "      <td>5500</td>\n",
              "      <td>18</td>\n",
              "      <td>22</td>\n",
              "      <td>17450.0</td>\n",
              "    </tr>\n",
              "  </tbody>\n",
              "</table>\n",
              "</div>"
            ],
            "text/plain": [
              "       Car_Manufacturer     Car_Model  ...  Highway_MPG    Price\n",
              "Car_ID                                 ...                      \n",
              "1           alfa-romero        giulia  ...           27  13495.0\n",
              "2           alfa-romero       stelvio  ...           27  16500.0\n",
              "3           alfa-romero  Quadrifoglio  ...           26  16500.0\n",
              "4                  audi         100ls  ...           30  13950.0\n",
              "5                  audi         100ls  ...           22  17450.0\n",
              "\n",
              "[5 rows x 26 columns]"
            ]
          },
          "metadata": {},
          "execution_count": 95
        }
      ]
    },
    {
      "cell_type": "code",
      "metadata": {
        "id": "KPKgBrQfnnrs"
      },
      "source": [
        "plt.style.use(\"seaborn\")\n",
        "plt.rcParams.update({'font.size': 14})"
      ],
      "execution_count": 105,
      "outputs": []
    },
    {
      "cell_type": "markdown",
      "metadata": {
        "id": "XYMYiVnyuRmr"
      },
      "source": [
        "**Plot Categorical Data**"
      ]
    },
    {
      "cell_type": "code",
      "metadata": {
        "colab": {
          "base_uri": "https://localhost:8080/",
          "height": 1000
        },
        "id": "uyn1JfWTmTem",
        "outputId": "af1e7873-4abf-4c1b-f98d-8253e8c994f2"
      },
      "source": [
        "for c in [\"Car_Manufacturer\",\"Symboling\",\"Fuel_Type\",\"Aspiration\",\"Door_Number\",\"Car_Body\",\"Drive_Wheel\",\"Engine_Location\",\"Engine_Type\",\"Cylinder_Type\",\"Fuel_System\"]:\n",
        "  plt.title(\" \".join(c.split(\"_\")),size=18,y=1.05)\n",
        "  if c == \"Car_Manufacturer\":\n",
        "    sns.countplot(y=df[c],order=df[c].value_counts().index)\n",
        "  else:\n",
        "    sns.countplot(df[c],order=df[c].value_counts().index)\n",
        "  plt.show()"
      ],
      "execution_count": 117,
      "outputs": [
        {
          "output_type": "display_data",
          "data": {
            "image/png": "[encoded data removed]",
            "text/plain": [
              "<Figure size 576x396 with 1 Axes>"
            ]
          },
          "metadata": {}
        },
        {
          "output_type": "stream",
          "name": "stderr",
          "text": [
            "/usr/local/lib/python3.7/dist-packages/seaborn/_decorators.py:43: FutureWarning: Pass the following variable as a keyword arg: x. From version 0.12, the only valid positional argument will be `data`, and passing other arguments without an explicit keyword will result in an error or misinterpretation.\n",
            "  FutureWarning\n"
          ]
        },
        {
          "output_type": "display_data",
          "data": {
            "image/png": "[encoded data removed]",
            "text/plain": [
              "<Figure size 576x396 with 1 Axes>"
            ]
          },
          "metadata": {}
        },
        {
          "output_type": "stream",
          "name": "stderr",
          "text": [
            "/usr/local/lib/python3.7/dist-packages/seaborn/_decorators.py:43: FutureWarning: Pass the following variable as a keyword arg: x. From version 0.12, the only valid positional argument will be `data`, and passing other arguments without an explicit keyword will result in an error or misinterpretation.\n",
            "  FutureWarning\n"
          ]
        },
        {
          "output_type": "display_data",
          "data": {
            "image/png": "[encoded data removed]",
            "text/plain": [
              "<Figure size 576x396 with 1 Axes>"
            ]
          },
          "metadata": {}
        },
        {
          "output_type": "stream",
          "name": "stderr",
          "text": [
            "/usr/local/lib/python3.7/dist-packages/seaborn/_decorators.py:43: FutureWarning: Pass the following variable as a keyword arg: x. From version 0.12, the only valid positional argument will be `data`, and passing other arguments without an explicit keyword will result in an error or misinterpretation.\n",
            "  FutureWarning\n"
          ]
        },
        {
          "output_type": "display_data",
          "data": {
            "image/png": "[encoded data removed]",
            "text/plain": [
              "<Figure size 576x396 with 1 Axes>"
            ]
          },
          "metadata": {}
        },
        {
          "output_type": "stream",
          "name": "stderr",
          "text": [
            "/usr/local/lib/python3.7/dist-packages/seaborn/_decorators.py:43: FutureWarning: Pass the following variable as a keyword arg: x. From version 0.12, the only valid positional argument will be `data`, and passing other arguments without an explicit keyword will result in an error or misinterpretation.\n",
            "  FutureWarning\n"
          ]
        },
        {
          "output_type": "display_data",
          "data": {
            "image/png": "[encoded data removed]",
            "text/plain": [
              "<Figure size 576x396 with 1 Axes>"
            ]
          },
          "metadata": {}
        },
        {
          "output_type": "stream",
          "name": "stderr",
          "text": [
            "/usr/local/lib/python3.7/dist-packages/seaborn/_decorators.py:43: FutureWarning: Pass the following variable as a keyword arg: x. From version 0.12, the only valid positional argument will be `data`, and passing other arguments without an explicit keyword will result in an error or misinterpretation.\n",
            "  FutureWarning\n"
          ]
        },
        {
          "output_type": "display_data",
          "data": {
            "image/png": "[encoded data removed]",
            "text/plain": [
              "<Figure size 576x396 with 1 Axes>"
            ]
          },
          "metadata": {}
        },
        {
          "output_type": "stream",
          "name": "stderr",
          "text": [
            "/usr/local/lib/python3.7/dist-packages/seaborn/_decorators.py:43: FutureWarning: Pass the following variable as a keyword arg: x. From version 0.12, the only valid positional argument will be `data`, and passing other arguments without an explicit keyword will result in an error or misinterpretation.\n",
            "  FutureWarning\n"
          ]
        },
        {
          "output_type": "display_data",
          "data": {
            "image/png": "[encoded data removed]",
            "text/plain": [
              "<Figure size 576x396 with 1 Axes>"
            ]
          },
          "metadata": {}
        },
        {
          "output_type": "stream",
          "name": "stderr",
          "text": [
            "/usr/local/lib/python3.7/dist-packages/seaborn/_decorators.py:43: FutureWarning: Pass the following variable as a keyword arg: x. From version 0.12, the only valid positional argument will be `data`, and passing other arguments without an explicit keyword will result in an error or misinterpretation.\n",
            "  FutureWarning\n"
          ]
        },
        {
          "output_type": "display_data",
          "data": {
            "image/png": "[encoded data removed]",
            "text/plain": [
              "<Figure size 576x396 with 1 Axes>"
            ]
          },
          "metadata": {}
        },
        {
          "output_type": "stream",
          "name": "stderr",
          "text": [
            "/usr/local/lib/python3.7/dist-packages/seaborn/_decorators.py:43: FutureWarning: Pass the following variable as a keyword arg: x. From version 0.12, the only valid positional argument will be `data`, and passing other arguments without an explicit keyword will result in an error or misinterpretation.\n",
            "  FutureWarning\n"
          ]
        },
        {
          "output_type": "display_data",
          "data": {
            "image/png": "[encoded data removed]",
            "text/plain": [
              "<Figure size 576x396 with 1 Axes>"
            ]
          },
          "metadata": {}
        },
        {
          "output_type": "stream",
          "name": "stderr",
          "text": [
            "/usr/local/lib/python3.7/dist-packages/seaborn/_decorators.py:43: FutureWarning: Pass the following variable as a keyword arg: x. From version 0.12, the only valid positional argument will be `data`, and passing other arguments without an explicit keyword will result in an error or misinterpretation.\n",
            "  FutureWarning\n"
          ]
        },
        {
          "output_type": "display_data",
          "data": {
            "image/png": "[encoded data removed]",
            "text/plain": [
              "<Figure size 576x396 with 1 Axes>"
            ]
          },
          "metadata": {}
        },
        {
          "output_type": "stream",
          "name": "stderr",
          "text": [
            "/usr/local/lib/python3.7/dist-packages/seaborn/_decorators.py:43: FutureWarning: Pass the following variable as a keyword arg: x. From version 0.12, the only valid positional argument will be `data`, and passing other arguments without an explicit keyword will result in an error or misinterpretation.\n",
            "  FutureWarning\n"
          ]
        },
        {
          "output_type": "display_data",
          "data": {
            "image/png": "[encoded data removed]",
            "text/plain": [
              "<Figure size 576x396 with 1 Axes>"
            ]
          },
          "metadata": {}
        }
      ]
    },
    {
      "cell_type": "markdown",
      "metadata": {
        "id": "36PXQqDQuOEx"
      },
      "source": [
        "**Plot Numeric Data**"
      ]
    },
    {
      "cell_type": "code",
      "metadata": {
        "colab": {
          "base_uri": "https://localhost:8080/",
          "height": 1000
        },
        "id": "NwQpXiV1rAyn",
        "outputId": "d02be34e-92b9-4d22-ca73-235b022a1eb7"
      },
      "source": [
        "for c in [\"Wheel_Base\",\"Car_Length\",\"Car_Width\",\"Car_Height\",\"Curb_Weight\",\"Engine_Size\",\"Bore_Ratio\",\"Stroke\",\"Compression_Ratio\",\"Horse_Power\",\"Peak_RPM\",\"City_MPG\",\"Highway_MPG\",\"Price\"]:\n",
        "  plt.title(\" \".join(c.split(\"_\")),size=18,y=1.05)\n",
        "  if c==\"Price\":\n",
        "    sns.boxplot(df[c],color=\"tab:blue\")\n",
        "  else:\n",
        "    sns.boxplot(df[c],color=\"tab:green\")\n",
        "  plt.show()"
      ],
      "execution_count": 124,
      "outputs": [
        {
          "output_type": "stream",
          "name": "stderr",
          "text": [
            "/usr/local/lib/python3.7/dist-packages/seaborn/_decorators.py:43: FutureWarning: Pass the following variable as a keyword arg: x. From version 0.12, the only valid positional argument will be `data`, and passing other arguments without an explicit keyword will result in an error or misinterpretation.\n",
            "  FutureWarning\n"
          ]
        },
        {
          "output_type": "display_data",
          "data": {
            "image/png": "[encoded data removed]",
            "text/plain": [
              "<Figure size 576x396 with 1 Axes>"
            ]
          },
          "metadata": {}
        },
        {
          "output_type": "stream",
          "name": "stderr",
          "text": [
            "/usr/local/lib/python3.7/dist-packages/seaborn/_decorators.py:43: FutureWarning: Pass the following variable as a keyword arg: x. From version 0.12, the only valid positional argument will be `data`, and passing other arguments without an explicit keyword will result in an error or misinterpretation.\n",
            "  FutureWarning\n"
          ]
        },
        {
          "output_type": "display_data",
          "data": {
            "image/png": "[encoded data removed]",
            "text/plain": [
              "<Figure size 576x396 with 1 Axes>"
            ]
          },
          "metadata": {}
        },
        {
          "output_type": "stream",
          "name": "stderr",
          "text": [
            "/usr/local/lib/python3.7/dist-packages/seaborn/_decorators.py:43: FutureWarning: Pass the following variable as a keyword arg: x. From version 0.12, the only valid positional argument will be `data`, and passing other arguments without an explicit keyword will result in an error or misinterpretation.\n",
            "  FutureWarning\n"
          ]
        },
        {
          "output_type": "display_data",
          "data": {
            "image/png": "[encoded data removed]",
            "text/plain": [
              "<Figure size 576x396 with 1 Axes>"
            ]
          },
          "metadata": {}
        },
        {
          "output_type": "stream",
          "name": "stderr",
          "text": [
            "/usr/local/lib/python3.7/dist-packages/seaborn/_decorators.py:43: FutureWarning: Pass the following variable as a keyword arg: x. From version 0.12, the only valid positional argument will be `data`, and passing other arguments without an explicit keyword will result in an error or misinterpretation.\n",
            "  FutureWarning\n"
          ]
        },
        {
          "output_type": "display_data",
          "data": {
            "image/png": "[encoded data removed]",
            "text/plain": [
              "<Figure size 576x396 with 1 Axes>"
            ]
          },
          "metadata": {}
        },
        {
          "output_type": "stream",
          "name": "stderr",
          "text": [
            "/usr/local/lib/python3.7/dist-packages/seaborn/_decorators.py:43: FutureWarning: Pass the following variable as a keyword arg: x. From version 0.12, the only valid positional argument will be `data`, and passing other arguments without an explicit keyword will result in an error or misinterpretation.\n",
            "  FutureWarning\n"
          ]
        },
        {
          "output_type": "display_data",
          "data": {
            "image/png": "[encoded data removed]",
            "text/plain": [
              "<Figure size 576x396 with 1 Axes>"
            ]
          },
          "metadata": {}
        },
        {
          "output_type": "stream",
          "name": "stderr",
          "text": [
            "/usr/local/lib/python3.7/dist-packages/seaborn/_decorators.py:43: FutureWarning: Pass the following variable as a keyword arg: x. From version 0.12, the only valid positional argument will be `data`, and passing other arguments without an explicit keyword will result in an error or misinterpretation.\n",
            "  FutureWarning\n"
          ]
        },
        {
          "output_type": "display_data",
          "data": {
            "image/png": "[encoded data removed]",
            "text/plain": [
              "<Figure size 576x396 with 1 Axes>"
            ]
          },
          "metadata": {}
        },
        {
          "output_type": "stream",
          "name": "stderr",
          "text": [
            "/usr/local/lib/python3.7/dist-packages/seaborn/_decorators.py:43: FutureWarning: Pass the following variable as a keyword arg: x. From version 0.12, the only valid positional argument will be `data`, and passing other arguments without an explicit keyword will result in an error or misinterpretation.\n",
            "  FutureWarning\n"
          ]
        },
        {
          "output_type": "display_data",
          "data": {
            "image/png": "[encoded data removed]",
            "text/plain": [
              "<Figure size 576x396 with 1 Axes>"
            ]
          },
          "metadata": {}
        },
        {
          "output_type": "stream",
          "name": "stderr",
          "text": [
            "/usr/local/lib/python3.7/dist-packages/seaborn/_decorators.py:43: FutureWarning: Pass the following variable as a keyword arg: x. From version 0.12, the only valid positional argument will be `data`, and passing other arguments without an explicit keyword will result in an error or misinterpretation.\n",
            "  FutureWarning\n"
          ]
        },
        {
          "output_type": "display_data",
          "data": {
            "image/png": "[encoded data removed]",
            "text/plain": [
              "<Figure size 576x396 with 1 Axes>"
            ]
          },
          "metadata": {}
        },
        {
          "output_type": "stream",
          "name": "stderr",
          "text": [
            "/usr/local/lib/python3.7/dist-packages/seaborn/_decorators.py:43: FutureWarning: Pass the following variable as a keyword arg: x. From version 0.12, the only valid positional argument will be `data`, and passing other arguments without an explicit keyword will result in an error or misinterpretation.\n",
            "  FutureWarning\n"
          ]
        },
        {
          "output_type": "display_data",
          "data": {
            "image/png": "[encoded data removed]",
            "text/plain": [
              "<Figure size 576x396 with 1 Axes>"
            ]
          },
          "metadata": {}
        },
        {
          "output_type": "stream",
          "name": "stderr",
          "text": [
            "/usr/local/lib/python3.7/dist-packages/seaborn/_decorators.py:43: FutureWarning: Pass the following variable as a keyword arg: x. From version 0.12, the only valid positional argument will be `data`, and passing other arguments without an explicit keyword will result in an error or misinterpretation.\n",
            "  FutureWarning\n"
          ]
        },
        {
          "output_type": "display_data",
          "data": {
            "image/png": "[encoded data removed]",
            "text/plain": [
              "<Figure size 576x396 with 1 Axes>"
            ]
          },
          "metadata": {}
        },
        {
          "output_type": "stream",
          "name": "stderr",
          "text": [
            "/usr/local/lib/python3.7/dist-packages/seaborn/_decorators.py:43: FutureWarning: Pass the following variable as a keyword arg: x. From version 0.12, the only valid positional argument will be `data`, and passing other arguments without an explicit keyword will result in an error or misinterpretation.\n",
            "  FutureWarning\n"
          ]
        },
        {
          "output_type": "display_data",
          "data": {
            "image/png": "[encoded data removed]",
            "text/plain": [
              "<Figure size 576x396 with 1 Axes>"
            ]
          },
          "metadata": {}
        },
        {
          "output_type": "stream",
          "name": "stderr",
          "text": [
            "/usr/local/lib/python3.7/dist-packages/seaborn/_decorators.py:43: FutureWarning: Pass the following variable as a keyword arg: x. From version 0.12, the only valid positional argument will be `data`, and passing other arguments without an explicit keyword will result in an error or misinterpretation.\n",
            "  FutureWarning\n"
          ]
        },
        {
          "output_type": "display_data",
          "data": {
            "image/png": "[encoded data removed]",
            "text/plain": [
              "<Figure size 576x396 with 1 Axes>"
            ]
          },
          "metadata": {}
        },
        {
          "output_type": "stream",
          "name": "stderr",
          "text": [
            "/usr/local/lib/python3.7/dist-packages/seaborn/_decorators.py:43: FutureWarning: Pass the following variable as a keyword arg: x. From version 0.12, the only valid positional argument will be `data`, and passing other arguments without an explicit keyword will result in an error or misinterpretation.\n",
            "  FutureWarning\n"
          ]
        },
        {
          "output_type": "display_data",
          "data": {
            "image/png": "[encoded data removed]",
            "text/plain": [
              "<Figure size 576x396 with 1 Axes>"
            ]
          },
          "metadata": {}
        },
        {
          "output_type": "stream",
          "name": "stderr",
          "text": [
            "/usr/local/lib/python3.7/dist-packages/seaborn/_decorators.py:43: FutureWarning: Pass the following variable as a keyword arg: x. From version 0.12, the only valid positional argument will be `data`, and passing other arguments without an explicit keyword will result in an error or misinterpretation.\n",
            "  FutureWarning\n"
          ]
        },
        {
          "output_type": "display_data",
          "data": {
            "image/png": "[encoded data removed]",
            "text/plain": [
              "<Figure size 576x396 with 1 Axes>"
            ]
          },
          "metadata": {}
        }
      ]
    },
    {
      "cell_type": "markdown",
      "metadata": {
        "id": "X8XXIZrhtlTp"
      },
      "source": [
        "**Correlation**"
      ]
    },
    {
      "cell_type": "code",
      "metadata": {
        "colab": {
          "base_uri": "https://localhost:8080/",
          "height": 519
        },
        "id": "W4-feVqztkyh",
        "outputId": "575ba71a-ba2f-4b9e-bfbb-6d90ac209bf0"
      },
      "source": [
        "corr = df.corr()\n",
        "corr"
      ],
      "execution_count": 126,
      "outputs": [
        {
          "output_type": "execute_result",
          "data": {
            "text/html": [
              "<div>\n",
              "<style scoped>\n",
              "    .dataframe tbody tr th:only-of-type {\n",
              "        vertical-align: middle;\n",
              "    }\n",
              "\n",
              "    .dataframe tbody tr th {\n",
              "        vertical-align: top;\n",
              "    }\n",
              "\n",
              "    .dataframe thead th {\n",
              "        text-align: right;\n",
              "    }\n",
              "</style>\n",
              "<table border=\"1\" class=\"dataframe\">\n",
              "  <thead>\n",
              "    <tr style=\"text-align: right;\">\n",
              "      <th></th>\n",
              "      <th>Symboling</th>\n",
              "      <th>Wheel_Base</th>\n",
              "      <th>Car_Length</th>\n",
              "      <th>Car_Width</th>\n",
              "      <th>Car_Height</th>\n",
              "      <th>Curb_Weight</th>\n",
              "      <th>Engine_Size</th>\n",
              "      <th>Bore_Ratio</th>\n",
              "      <th>Stroke</th>\n",
              "      <th>Compression_Ratio</th>\n",
              "      <th>Horse_Power</th>\n",
              "      <th>Peak_RPM</th>\n",
              "      <th>City_MPG</th>\n",
              "      <th>Highway_MPG</th>\n",
              "      <th>Price</th>\n",
              "    </tr>\n",
              "  </thead>\n",
              "  <tbody>\n",
              "    <tr>\n",
              "      <th>Symboling</th>\n",
              "      <td>1.000000</td>\n",
              "      <td>-0.531954</td>\n",
              "      <td>-0.357612</td>\n",
              "      <td>-0.232919</td>\n",
              "      <td>-0.541038</td>\n",
              "      <td>-0.227691</td>\n",
              "      <td>-0.105790</td>\n",
              "      <td>-0.130051</td>\n",
              "      <td>-0.008735</td>\n",
              "      <td>-0.178515</td>\n",
              "      <td>0.070873</td>\n",
              "      <td>0.273606</td>\n",
              "      <td>-0.035823</td>\n",
              "      <td>0.034606</td>\n",
              "      <td>-0.079978</td>\n",
              "    </tr>\n",
              "    <tr>\n",
              "      <th>Wheel_Base</th>\n",
              "      <td>-0.531954</td>\n",
              "      <td>1.000000</td>\n",
              "      <td>0.874587</td>\n",
              "      <td>0.795144</td>\n",
              "      <td>0.589435</td>\n",
              "      <td>0.776386</td>\n",
              "      <td>0.569329</td>\n",
              "      <td>0.488750</td>\n",
              "      <td>0.160959</td>\n",
              "      <td>0.249786</td>\n",
              "      <td>0.353294</td>\n",
              "      <td>-0.360469</td>\n",
              "      <td>-0.470414</td>\n",
              "      <td>-0.544082</td>\n",
              "      <td>0.577816</td>\n",
              "    </tr>\n",
              "    <tr>\n",
              "      <th>Car_Length</th>\n",
              "      <td>-0.357612</td>\n",
              "      <td>0.874587</td>\n",
              "      <td>1.000000</td>\n",
              "      <td>0.841118</td>\n",
              "      <td>0.491029</td>\n",
              "      <td>0.877728</td>\n",
              "      <td>0.683360</td>\n",
              "      <td>0.606454</td>\n",
              "      <td>0.129533</td>\n",
              "      <td>0.158414</td>\n",
              "      <td>0.552623</td>\n",
              "      <td>-0.287242</td>\n",
              "      <td>-0.670909</td>\n",
              "      <td>-0.704662</td>\n",
              "      <td>0.682920</td>\n",
              "    </tr>\n",
              "    <tr>\n",
              "      <th>Car_Width</th>\n",
              "      <td>-0.232919</td>\n",
              "      <td>0.795144</td>\n",
              "      <td>0.841118</td>\n",
              "      <td>1.000000</td>\n",
              "      <td>0.279210</td>\n",
              "      <td>0.867032</td>\n",
              "      <td>0.735433</td>\n",
              "      <td>0.559150</td>\n",
              "      <td>0.182942</td>\n",
              "      <td>0.181129</td>\n",
              "      <td>0.640732</td>\n",
              "      <td>-0.220012</td>\n",
              "      <td>-0.642704</td>\n",
              "      <td>-0.677218</td>\n",
              "      <td>0.759325</td>\n",
              "    </tr>\n",
              "    <tr>\n",
              "      <th>Car_Height</th>\n",
              "      <td>-0.541038</td>\n",
              "      <td>0.589435</td>\n",
              "      <td>0.491029</td>\n",
              "      <td>0.279210</td>\n",
              "      <td>1.000000</td>\n",
              "      <td>0.295572</td>\n",
              "      <td>0.067149</td>\n",
              "      <td>0.171071</td>\n",
              "      <td>-0.055307</td>\n",
              "      <td>0.261214</td>\n",
              "      <td>-0.108802</td>\n",
              "      <td>-0.320411</td>\n",
              "      <td>-0.048640</td>\n",
              "      <td>-0.107358</td>\n",
              "      <td>0.119336</td>\n",
              "    </tr>\n",
              "    <tr>\n",
              "      <th>Curb_Weight</th>\n",
              "      <td>-0.227691</td>\n",
              "      <td>0.776386</td>\n",
              "      <td>0.877728</td>\n",
              "      <td>0.867032</td>\n",
              "      <td>0.295572</td>\n",
              "      <td>1.000000</td>\n",
              "      <td>0.850594</td>\n",
              "      <td>0.648480</td>\n",
              "      <td>0.168790</td>\n",
              "      <td>0.151362</td>\n",
              "      <td>0.750739</td>\n",
              "      <td>-0.266243</td>\n",
              "      <td>-0.757414</td>\n",
              "      <td>-0.797465</td>\n",
              "      <td>0.835305</td>\n",
              "    </tr>\n",
              "    <tr>\n",
              "      <th>Engine_Size</th>\n",
              "      <td>-0.105790</td>\n",
              "      <td>0.569329</td>\n",
              "      <td>0.683360</td>\n",
              "      <td>0.735433</td>\n",
              "      <td>0.067149</td>\n",
              "      <td>0.850594</td>\n",
              "      <td>1.000000</td>\n",
              "      <td>0.583774</td>\n",
              "      <td>0.203129</td>\n",
              "      <td>0.028971</td>\n",
              "      <td>0.809769</td>\n",
              "      <td>-0.244660</td>\n",
              "      <td>-0.653658</td>\n",
              "      <td>-0.677470</td>\n",
              "      <td>0.874145</td>\n",
              "    </tr>\n",
              "    <tr>\n",
              "      <th>Bore_Ratio</th>\n",
              "      <td>-0.130051</td>\n",
              "      <td>0.488750</td>\n",
              "      <td>0.606454</td>\n",
              "      <td>0.559150</td>\n",
              "      <td>0.171071</td>\n",
              "      <td>0.648480</td>\n",
              "      <td>0.583774</td>\n",
              "      <td>1.000000</td>\n",
              "      <td>-0.055909</td>\n",
              "      <td>0.005197</td>\n",
              "      <td>0.573677</td>\n",
              "      <td>-0.254976</td>\n",
              "      <td>-0.584532</td>\n",
              "      <td>-0.587012</td>\n",
              "      <td>0.553173</td>\n",
              "    </tr>\n",
              "    <tr>\n",
              "      <th>Stroke</th>\n",
              "      <td>-0.008735</td>\n",
              "      <td>0.160959</td>\n",
              "      <td>0.129533</td>\n",
              "      <td>0.182942</td>\n",
              "      <td>-0.055307</td>\n",
              "      <td>0.168790</td>\n",
              "      <td>0.203129</td>\n",
              "      <td>-0.055909</td>\n",
              "      <td>1.000000</td>\n",
              "      <td>0.186110</td>\n",
              "      <td>0.080940</td>\n",
              "      <td>-0.067964</td>\n",
              "      <td>-0.042145</td>\n",
              "      <td>-0.043931</td>\n",
              "      <td>0.079443</td>\n",
              "    </tr>\n",
              "    <tr>\n",
              "      <th>Compression_Ratio</th>\n",
              "      <td>-0.178515</td>\n",
              "      <td>0.249786</td>\n",
              "      <td>0.158414</td>\n",
              "      <td>0.181129</td>\n",
              "      <td>0.261214</td>\n",
              "      <td>0.151362</td>\n",
              "      <td>0.028971</td>\n",
              "      <td>0.005197</td>\n",
              "      <td>0.186110</td>\n",
              "      <td>1.000000</td>\n",
              "      <td>-0.204326</td>\n",
              "      <td>-0.435741</td>\n",
              "      <td>0.324701</td>\n",
              "      <td>0.265201</td>\n",
              "      <td>0.067984</td>\n",
              "    </tr>\n",
              "    <tr>\n",
              "      <th>Horse_Power</th>\n",
              "      <td>0.070873</td>\n",
              "      <td>0.353294</td>\n",
              "      <td>0.552623</td>\n",
              "      <td>0.640732</td>\n",
              "      <td>-0.108802</td>\n",
              "      <td>0.750739</td>\n",
              "      <td>0.809769</td>\n",
              "      <td>0.573677</td>\n",
              "      <td>0.080940</td>\n",
              "      <td>-0.204326</td>\n",
              "      <td>1.000000</td>\n",
              "      <td>0.131073</td>\n",
              "      <td>-0.801456</td>\n",
              "      <td>-0.770544</td>\n",
              "      <td>0.808139</td>\n",
              "    </tr>\n",
              "    <tr>\n",
              "      <th>Peak_RPM</th>\n",
              "      <td>0.273606</td>\n",
              "      <td>-0.360469</td>\n",
              "      <td>-0.287242</td>\n",
              "      <td>-0.220012</td>\n",
              "      <td>-0.320411</td>\n",
              "      <td>-0.266243</td>\n",
              "      <td>-0.244660</td>\n",
              "      <td>-0.254976</td>\n",
              "      <td>-0.067964</td>\n",
              "      <td>-0.435741</td>\n",
              "      <td>0.131073</td>\n",
              "      <td>1.000000</td>\n",
              "      <td>-0.113544</td>\n",
              "      <td>-0.054275</td>\n",
              "      <td>-0.085267</td>\n",
              "    </tr>\n",
              "    <tr>\n",
              "      <th>City_MPG</th>\n",
              "      <td>-0.035823</td>\n",
              "      <td>-0.470414</td>\n",
              "      <td>-0.670909</td>\n",
              "      <td>-0.642704</td>\n",
              "      <td>-0.048640</td>\n",
              "      <td>-0.757414</td>\n",
              "      <td>-0.653658</td>\n",
              "      <td>-0.584532</td>\n",
              "      <td>-0.042145</td>\n",
              "      <td>0.324701</td>\n",
              "      <td>-0.801456</td>\n",
              "      <td>-0.113544</td>\n",
              "      <td>1.000000</td>\n",
              "      <td>0.971337</td>\n",
              "      <td>-0.685751</td>\n",
              "    </tr>\n",
              "    <tr>\n",
              "      <th>Highway_MPG</th>\n",
              "      <td>0.034606</td>\n",
              "      <td>-0.544082</td>\n",
              "      <td>-0.704662</td>\n",
              "      <td>-0.677218</td>\n",
              "      <td>-0.107358</td>\n",
              "      <td>-0.797465</td>\n",
              "      <td>-0.677470</td>\n",
              "      <td>-0.587012</td>\n",
              "      <td>-0.043931</td>\n",
              "      <td>0.265201</td>\n",
              "      <td>-0.770544</td>\n",
              "      <td>-0.054275</td>\n",
              "      <td>0.971337</td>\n",
              "      <td>1.000000</td>\n",
              "      <td>-0.697599</td>\n",
              "    </tr>\n",
              "    <tr>\n",
              "      <th>Price</th>\n",
              "      <td>-0.079978</td>\n",
              "      <td>0.577816</td>\n",
              "      <td>0.682920</td>\n",
              "      <td>0.759325</td>\n",
              "      <td>0.119336</td>\n",
              "      <td>0.835305</td>\n",
              "      <td>0.874145</td>\n",
              "      <td>0.553173</td>\n",
              "      <td>0.079443</td>\n",
              "      <td>0.067984</td>\n",
              "      <td>0.808139</td>\n",
              "      <td>-0.085267</td>\n",
              "      <td>-0.685751</td>\n",
              "      <td>-0.697599</td>\n",
              "      <td>1.000000</td>\n",
              "    </tr>\n",
              "  </tbody>\n",
              "</table>\n",
              "</div>"
            ],
            "text/plain": [
              "                   Symboling  Wheel_Base  ...  Highway_MPG     Price\n",
              "Symboling           1.000000   -0.531954  ...     0.034606 -0.079978\n",
              "Wheel_Base         -0.531954    1.000000  ...    -0.544082  0.577816\n",
              "Car_Length         -0.357612    0.874587  ...    -0.704662  0.682920\n",
              "Car_Width          -0.232919    0.795144  ...    -0.677218  0.759325\n",
              "Car_Height         -0.541038    0.589435  ...    -0.107358  0.119336\n",
              "Curb_Weight        -0.227691    0.776386  ...    -0.797465  0.835305\n",
              "Engine_Size        -0.105790    0.569329  ...    -0.677470  0.874145\n",
              "Bore_Ratio         -0.130051    0.488750  ...    -0.587012  0.553173\n",
              "Stroke             -0.008735    0.160959  ...    -0.043931  0.079443\n",
              "Compression_Ratio  -0.178515    0.249786  ...     0.265201  0.067984\n",
              "Horse_Power         0.070873    0.353294  ...    -0.770544  0.808139\n",
              "Peak_RPM            0.273606   -0.360469  ...    -0.054275 -0.085267\n",
              "City_MPG           -0.035823   -0.470414  ...     0.971337 -0.685751\n",
              "Highway_MPG         0.034606   -0.544082  ...     1.000000 -0.697599\n",
              "Price              -0.079978    0.577816  ...    -0.697599  1.000000\n",
              "\n",
              "[15 rows x 15 columns]"
            ]
          },
          "metadata": {},
          "execution_count": 126
        }
      ]
    },
    {
      "cell_type": "code",
      "metadata": {
        "colab": {
          "base_uri": "https://localhost:8080/",
          "height": 447
        },
        "id": "0vR9Xh1ytwtA",
        "outputId": "c8f952f4-a118-4fec-d216-2f704d16e98d"
      },
      "source": [
        "sns.heatmap(corr,cmap=\"Blues\")"
      ],
      "execution_count": 128,
      "outputs": [
        {
          "output_type": "execute_result",
          "data": {
            "text/plain": [
              "<matplotlib.axes._subplots.AxesSubplot at 0x7f0b282c1450>"
            ]
          },
          "metadata": {},
          "execution_count": 128
        },
        {
          "output_type": "display_data",
          "data": {
            "image/png": "[encoded data removed]",
            "text/plain": [
              "<Figure size 576x396 with 2 Axes>"
            ]
          },
          "metadata": {}
        }
      ]
    },
    {
      "cell_type": "code",
      "metadata": {
        "colab": {
          "base_uri": "https://localhost:8080/"
        },
        "id": "9Y29l-QPuZbe",
        "outputId": "4f18cdb9-a926-4620-fc7e-dfd6c93a0cb7"
      },
      "source": [
        "corr_target = df.corrwith(df[\"Price\"])\n",
        "corr_target.reindex(corr_target.abs().sort_values(ascending=False).index)[1:]"
      ],
      "execution_count": 139,
      "outputs": [
        {
          "output_type": "execute_result",
          "data": {
            "text/plain": [
              "Engine_Size          0.874145\n",
              "Curb_Weight          0.835305\n",
              "Horse_Power          0.808139\n",
              "Car_Width            0.759325\n",
              "Highway_MPG         -0.697599\n",
              "City_MPG            -0.685751\n",
              "Car_Length           0.682920\n",
              "Wheel_Base           0.577816\n",
              "Bore_Ratio           0.553173\n",
              "Car_Height           0.119336\n",
              "Peak_RPM            -0.085267\n",
              "Symboling           -0.079978\n",
              "Stroke               0.079443\n",
              "Compression_Ratio    0.067984\n",
              "dtype: float64"
            ]
          },
          "metadata": {},
          "execution_count": 139
        }
      ]
    },
    {
      "cell_type": "markdown",
      "metadata": {
        "id": "yI1J1b7yv61M"
      },
      "source": [
        "The top five numerical features that affect the target are:\n",
        "- Engine Size\n",
        "- Curb Weight\n",
        "- Horse Power\n",
        "- Car Width\n",
        "- Highway MPG (negative correlation)"
      ]
    }
  ]
}
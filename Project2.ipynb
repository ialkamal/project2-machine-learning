{
  "nbformat": 4,
  "nbformat_minor": 0,
  "metadata": {
    "colab": {
      "name": "Project2.ipynb",
      "provenance": [],
      "mount_file_id": "1BjuHuYOp2lv6m5vePVmdaA_O5nTboN34",
      "authorship_tag": "ABX9TyN1IUCCOQEgYGj4JWREG2bg",
      "include_colab_link": true
    },
    "kernelspec": {
      "name": "python3",
      "display_name": "Python 3"
    },
    "language_info": {
      "name": "python"
    }
  },
  "cells": [
    {
      "cell_type": "markdown",
      "metadata": {
        "id": "view-in-github",
        "colab_type": "text"
      },
      "source": [
        "<a href=\"https://colab.research.google.com/github/ialkamal/project2-machine-learning/blob/master/Project2.ipynb\" target=\"_parent\"><img src=\"https://colab.research.google.com/assets/colab-badge.svg\" alt=\"Open In Colab\"/></a>"
      ]
    },
    {
      "cell_type": "markdown",
      "metadata": {
        "id": "ypJ-Ig9eScwI"
      },
      "source": [
        "# Project 2"
      ]
    },
    {
      "cell_type": "code",
      "metadata": {
        "id": "sGxxktkcSrG8"
      },
      "source": [
        "import pandas as pd"
      ],
      "execution_count": 1,
      "outputs": []
    },
    {
      "cell_type": "markdown",
      "metadata": {
        "id": "C3dR5kA6SYIt"
      },
      "source": [
        "## Dataset 1"
      ]
    },
    {
      "cell_type": "markdown",
      "metadata": {
        "id": "CCmZJtsHTCsB"
      },
      "source": [
        "Src: https://www.kaggle.com/hellbuoy/car-price-prediction"
      ]
    },
    {
      "cell_type": "markdown",
      "metadata": {
        "id": "MNtg4SMlTFaS"
      },
      "source": [
        "**Description:**  A large data set of different types of cars across the US  market."
      ]
    },
    {
      "cell_type": "markdown",
      "metadata": {
        "id": "RF61ooWKTQYZ"
      },
      "source": [
        "**Target:** Price\n",
        "(*predict the sales price*)"
      ]
    },
    {
      "cell_type": "markdown",
      "metadata": {
        "id": "iMiV0Yp_Tg-Z"
      },
      "source": [
        "**Type:** Regression"
      ]
    },
    {
      "cell_type": "code",
      "metadata": {
        "colab": {
          "base_uri": "https://localhost:8080/",
          "height": 278
        },
        "id": "qmBaxhm0SUb2",
        "outputId": "b3f4fbbd-f3ec-414b-e3b6-55b576ad386a"
      },
      "source": [
        "ds1 = pd.read_csv(\"/content/drive/MyDrive/Coding Dojo/Machine_Learning/CarPrice_Assignment.csv\")\n",
        "ds1.head()"
      ],
      "execution_count": 4,
      "outputs": [
        {
          "output_type": "execute_result",
          "data": {
            "text/html": [
              "<div>\n",
              "<style scoped>\n",
              "    .dataframe tbody tr th:only-of-type {\n",
              "        vertical-align: middle;\n",
              "    }\n",
              "\n",
              "    .dataframe tbody tr th {\n",
              "        vertical-align: top;\n",
              "    }\n",
              "\n",
              "    .dataframe thead th {\n",
              "        text-align: right;\n",
              "    }\n",
              "</style>\n",
              "<table border=\"1\" class=\"dataframe\">\n",
              "  <thead>\n",
              "    <tr style=\"text-align: right;\">\n",
              "      <th></th>\n",
              "      <th>car_ID</th>\n",
              "      <th>symboling</th>\n",
              "      <th>CarName</th>\n",
              "      <th>fueltype</th>\n",
              "      <th>aspiration</th>\n",
              "      <th>doornumber</th>\n",
              "      <th>carbody</th>\n",
              "      <th>drivewheel</th>\n",
              "      <th>enginelocation</th>\n",
              "      <th>wheelbase</th>\n",
              "      <th>carlength</th>\n",
              "      <th>carwidth</th>\n",
              "      <th>carheight</th>\n",
              "      <th>curbweight</th>\n",
              "      <th>enginetype</th>\n",
              "      <th>cylindernumber</th>\n",
              "      <th>enginesize</th>\n",
              "      <th>fuelsystem</th>\n",
              "      <th>boreratio</th>\n",
              "      <th>stroke</th>\n",
              "      <th>compressionratio</th>\n",
              "      <th>horsepower</th>\n",
              "      <th>peakrpm</th>\n",
              "      <th>citympg</th>\n",
              "      <th>highwaympg</th>\n",
              "      <th>price</th>\n",
              "    </tr>\n",
              "  </thead>\n",
              "  <tbody>\n",
              "    <tr>\n",
              "      <th>0</th>\n",
              "      <td>1</td>\n",
              "      <td>3</td>\n",
              "      <td>alfa-romero giulia</td>\n",
              "      <td>gas</td>\n",
              "      <td>std</td>\n",
              "      <td>two</td>\n",
              "      <td>convertible</td>\n",
              "      <td>rwd</td>\n",
              "      <td>front</td>\n",
              "      <td>88.6</td>\n",
              "      <td>168.8</td>\n",
              "      <td>64.1</td>\n",
              "      <td>48.8</td>\n",
              "      <td>2548</td>\n",
              "      <td>dohc</td>\n",
              "      <td>four</td>\n",
              "      <td>130</td>\n",
              "      <td>mpfi</td>\n",
              "      <td>3.47</td>\n",
              "      <td>2.68</td>\n",
              "      <td>9.0</td>\n",
              "      <td>111</td>\n",
              "      <td>5000</td>\n",
              "      <td>21</td>\n",
              "      <td>27</td>\n",
              "      <td>13495.0</td>\n",
              "    </tr>\n",
              "    <tr>\n",
              "      <th>1</th>\n",
              "      <td>2</td>\n",
              "      <td>3</td>\n",
              "      <td>alfa-romero stelvio</td>\n",
              "      <td>gas</td>\n",
              "      <td>std</td>\n",
              "      <td>two</td>\n",
              "      <td>convertible</td>\n",
              "      <td>rwd</td>\n",
              "      <td>front</td>\n",
              "      <td>88.6</td>\n",
              "      <td>168.8</td>\n",
              "      <td>64.1</td>\n",
              "      <td>48.8</td>\n",
              "      <td>2548</td>\n",
              "      <td>dohc</td>\n",
              "      <td>four</td>\n",
              "      <td>130</td>\n",
              "      <td>mpfi</td>\n",
              "      <td>3.47</td>\n",
              "      <td>2.68</td>\n",
              "      <td>9.0</td>\n",
              "      <td>111</td>\n",
              "      <td>5000</td>\n",
              "      <td>21</td>\n",
              "      <td>27</td>\n",
              "      <td>16500.0</td>\n",
              "    </tr>\n",
              "    <tr>\n",
              "      <th>2</th>\n",
              "      <td>3</td>\n",
              "      <td>1</td>\n",
              "      <td>alfa-romero Quadrifoglio</td>\n",
              "      <td>gas</td>\n",
              "      <td>std</td>\n",
              "      <td>two</td>\n",
              "      <td>hatchback</td>\n",
              "      <td>rwd</td>\n",
              "      <td>front</td>\n",
              "      <td>94.5</td>\n",
              "      <td>171.2</td>\n",
              "      <td>65.5</td>\n",
              "      <td>52.4</td>\n",
              "      <td>2823</td>\n",
              "      <td>ohcv</td>\n",
              "      <td>six</td>\n",
              "      <td>152</td>\n",
              "      <td>mpfi</td>\n",
              "      <td>2.68</td>\n",
              "      <td>3.47</td>\n",
              "      <td>9.0</td>\n",
              "      <td>154</td>\n",
              "      <td>5000</td>\n",
              "      <td>19</td>\n",
              "      <td>26</td>\n",
              "      <td>16500.0</td>\n",
              "    </tr>\n",
              "    <tr>\n",
              "      <th>3</th>\n",
              "      <td>4</td>\n",
              "      <td>2</td>\n",
              "      <td>audi 100 ls</td>\n",
              "      <td>gas</td>\n",
              "      <td>std</td>\n",
              "      <td>four</td>\n",
              "      <td>sedan</td>\n",
              "      <td>fwd</td>\n",
              "      <td>front</td>\n",
              "      <td>99.8</td>\n",
              "      <td>176.6</td>\n",
              "      <td>66.2</td>\n",
              "      <td>54.3</td>\n",
              "      <td>2337</td>\n",
              "      <td>ohc</td>\n",
              "      <td>four</td>\n",
              "      <td>109</td>\n",
              "      <td>mpfi</td>\n",
              "      <td>3.19</td>\n",
              "      <td>3.40</td>\n",
              "      <td>10.0</td>\n",
              "      <td>102</td>\n",
              "      <td>5500</td>\n",
              "      <td>24</td>\n",
              "      <td>30</td>\n",
              "      <td>13950.0</td>\n",
              "    </tr>\n",
              "    <tr>\n",
              "      <th>4</th>\n",
              "      <td>5</td>\n",
              "      <td>2</td>\n",
              "      <td>audi 100ls</td>\n",
              "      <td>gas</td>\n",
              "      <td>std</td>\n",
              "      <td>four</td>\n",
              "      <td>sedan</td>\n",
              "      <td>4wd</td>\n",
              "      <td>front</td>\n",
              "      <td>99.4</td>\n",
              "      <td>176.6</td>\n",
              "      <td>66.4</td>\n",
              "      <td>54.3</td>\n",
              "      <td>2824</td>\n",
              "      <td>ohc</td>\n",
              "      <td>five</td>\n",
              "      <td>136</td>\n",
              "      <td>mpfi</td>\n",
              "      <td>3.19</td>\n",
              "      <td>3.40</td>\n",
              "      <td>8.0</td>\n",
              "      <td>115</td>\n",
              "      <td>5500</td>\n",
              "      <td>18</td>\n",
              "      <td>22</td>\n",
              "      <td>17450.0</td>\n",
              "    </tr>\n",
              "  </tbody>\n",
              "</table>\n",
              "</div>"
            ],
            "text/plain": [
              "   car_ID  symboling                   CarName  ... citympg highwaympg    price\n",
              "0       1          3        alfa-romero giulia  ...      21         27  13495.0\n",
              "1       2          3       alfa-romero stelvio  ...      21         27  16500.0\n",
              "2       3          1  alfa-romero Quadrifoglio  ...      19         26  16500.0\n",
              "3       4          2               audi 100 ls  ...      24         30  13950.0\n",
              "4       5          2                audi 100ls  ...      18         22  17450.0\n",
              "\n",
              "[5 rows x 26 columns]"
            ]
          },
          "metadata": {},
          "execution_count": 4
        }
      ]
    },
    {
      "cell_type": "code",
      "metadata": {
        "colab": {
          "base_uri": "https://localhost:8080/"
        },
        "id": "vw6p8oliWY-R",
        "outputId": "82f7158b-8ff5-46ef-cf1e-5fedb4442697"
      },
      "source": [
        "ds1.shape"
      ],
      "execution_count": 6,
      "outputs": [
        {
          "output_type": "execute_result",
          "data": {
            "text/plain": [
              "(205, 26)"
            ]
          },
          "metadata": {},
          "execution_count": 6
        }
      ]
    },
    {
      "cell_type": "markdown",
      "metadata": {
        "id": "rrF2uTY9WddK"
      },
      "source": [
        "**Features:** 26"
      ]
    },
    {
      "cell_type": "markdown",
      "metadata": {
        "id": "zslI0aWKSVWO"
      },
      "source": [
        "**Rows:** 205"
      ]
    },
    {
      "cell_type": "code",
      "metadata": {
        "colab": {
          "base_uri": "https://localhost:8080/"
        },
        "id": "LRQLzzjvW6Jq",
        "outputId": "db4524f5-611f-4b7e-cd76-fe2825445176"
      },
      "source": [
        "ds1.info()"
      ],
      "execution_count": 11,
      "outputs": [
        {
          "output_type": "stream",
          "name": "stdout",
          "text": [
            "<class 'pandas.core.frame.DataFrame'>\n",
            "RangeIndex: 205 entries, 0 to 204\n",
            "Data columns (total 26 columns):\n",
            " #   Column            Non-Null Count  Dtype  \n",
            "---  ------            --------------  -----  \n",
            " 0   car_ID            205 non-null    int64  \n",
            " 1   symboling         205 non-null    int64  \n",
            " 2   CarName           205 non-null    object \n",
            " 3   fueltype          205 non-null    object \n",
            " 4   aspiration        205 non-null    object \n",
            " 5   doornumber        205 non-null    object \n",
            " 6   carbody           205 non-null    object \n",
            " 7   drivewheel        205 non-null    object \n",
            " 8   enginelocation    205 non-null    object \n",
            " 9   wheelbase         205 non-null    float64\n",
            " 10  carlength         205 non-null    float64\n",
            " 11  carwidth          205 non-null    float64\n",
            " 12  carheight         205 non-null    float64\n",
            " 13  curbweight        205 non-null    int64  \n",
            " 14  enginetype        205 non-null    object \n",
            " 15  cylindernumber    205 non-null    object \n",
            " 16  enginesize        205 non-null    int64  \n",
            " 17  fuelsystem        205 non-null    object \n",
            " 18  boreratio         205 non-null    float64\n",
            " 19  stroke            205 non-null    float64\n",
            " 20  compressionratio  205 non-null    float64\n",
            " 21  horsepower        205 non-null    int64  \n",
            " 22  peakrpm           205 non-null    int64  \n",
            " 23  citympg           205 non-null    int64  \n",
            " 24  highwaympg        205 non-null    int64  \n",
            " 25  price             205 non-null    float64\n",
            "dtypes: float64(8), int64(8), object(10)\n",
            "memory usage: 41.8+ KB\n"
          ]
        }
      ]
    },
    {
      "cell_type": "code",
      "metadata": {
        "colab": {
          "base_uri": "https://localhost:8080/"
        },
        "id": "bHKUhEQpWq3H",
        "outputId": "d7dff972-8198-46a6-afa3-0e3422422722"
      },
      "source": [
        "ds1.duplicated().any()"
      ],
      "execution_count": 7,
      "outputs": [
        {
          "output_type": "execute_result",
          "data": {
            "text/plain": [
              "False"
            ]
          },
          "metadata": {},
          "execution_count": 7
        }
      ]
    },
    {
      "cell_type": "code",
      "metadata": {
        "colab": {
          "base_uri": "https://localhost:8080/"
        },
        "id": "zkShzmuEWvaL",
        "outputId": "d6f102c1-2a32-4927-df46-12f51d2d9ea6"
      },
      "source": [
        "ds1.isna().any()"
      ],
      "execution_count": 10,
      "outputs": [
        {
          "output_type": "execute_result",
          "data": {
            "text/plain": [
              "car_ID              False\n",
              "symboling           False\n",
              "CarName             False\n",
              "fueltype            False\n",
              "aspiration          False\n",
              "doornumber          False\n",
              "carbody             False\n",
              "drivewheel          False\n",
              "enginelocation      False\n",
              "wheelbase           False\n",
              "carlength           False\n",
              "carwidth            False\n",
              "carheight           False\n",
              "curbweight          False\n",
              "enginetype          False\n",
              "cylindernumber      False\n",
              "enginesize          False\n",
              "fuelsystem          False\n",
              "boreratio           False\n",
              "stroke              False\n",
              "compressionratio    False\n",
              "horsepower          False\n",
              "peakrpm             False\n",
              "citympg             False\n",
              "highwaympg          False\n",
              "price               False\n",
              "dtype: bool"
            ]
          },
          "metadata": {},
          "execution_count": 10
        }
      ]
    },
    {
      "cell_type": "markdown",
      "metadata": {
        "id": "Y8AGgufNSXUO"
      },
      "source": [
        "I believe the problem is straightforward and can be modeled well."
      ]
    },
    {
      "cell_type": "markdown",
      "metadata": {
        "id": "s2gC4NoWXLqK"
      },
      "source": [
        "## Dataset 2"
      ]
    },
    {
      "cell_type": "markdown",
      "metadata": {
        "id": "DhZgHWg8XRUs"
      },
      "source": [
        "Src: https://www.kaggle.com/andrewmvd/multi-organ-failure-prediction"
      ]
    },
    {
      "cell_type": "markdown",
      "metadata": {
        "id": "JBd91gQOXXnW"
      },
      "source": [
        ""
      ]
    },
    {
      "cell_type": "markdown",
      "metadata": {
        "id": "7osC_hM5XlwG"
      },
      "source": [
        "**Description:**  The most common cause of death for patients admitted to a intensive care unit (ICU) is a clinical condition known as the multiple organ dysfunction syndrome (MODS), multi-organ failure, multiple systems organ failure, or through some of its more prominent manifestations, as the acute respiratory distress syndrome (ARDS) or disseminated intravascular coagulation (DIC), MODS is as poorly understood as it is prevalent.\n",
        "\n",
        "This dataset contains data from 61 patients that entered the ICU due to trauma related reasons with 196 variables from physiological signals to severity scores (i.e NISS: New Injury Severity Score). The target variable (named label) is fairly balanced for outcomes of development of Multi Organ Failure or its absence."
      ]
    },
    {
      "cell_type": "markdown",
      "metadata": {
        "id": "AXdCZLFfXuoS"
      },
      "source": [
        "**Target:** named label (development of Multi Organ Failure or its absence)"
      ]
    },
    {
      "cell_type": "markdown",
      "metadata": {
        "id": "LOaaIpugX6JH"
      },
      "source": [
        "**Type:** Classification"
      ]
    },
    {
      "cell_type": "code",
      "metadata": {
        "colab": {
          "base_uri": "https://localhost:8080/",
          "height": 307
        },
        "id": "g9ftu4WMXXM_",
        "outputId": "81b1bee5-b6ce-4680-ee39-329906e8268e"
      },
      "source": [
        "ds2 = pd.read_csv(\"/content/drive/MyDrive/Coding Dojo/Machine_Learning/mods_dataset.csv\")\n",
        "ds2.head()"
      ],
      "execution_count": 12,
      "outputs": [
        {
          "output_type": "execute_result",
          "data": {
            "text/html": [
              "<div>\n",
              "<style scoped>\n",
              "    .dataframe tbody tr th:only-of-type {\n",
              "        vertical-align: middle;\n",
              "    }\n",
              "\n",
              "    .dataframe tbody tr th {\n",
              "        vertical-align: top;\n",
              "    }\n",
              "\n",
              "    .dataframe thead th {\n",
              "        text-align: right;\n",
              "    }\n",
              "</style>\n",
              "<table border=\"1\" class=\"dataframe\">\n",
              "  <thead>\n",
              "    <tr style=\"text-align: right;\">\n",
              "      <th></th>\n",
              "      <th>ISS</th>\n",
              "      <th>NISS</th>\n",
              "      <th>PS14</th>\n",
              "      <th>Age</th>\n",
              "      <th>WBC [109/L]_T1</th>\n",
              "      <th>NEUT [109/L]_T1</th>\n",
              "      <th>LYMPH [109/L]_T1</th>\n",
              "      <th>MONO [109/L]_T1</th>\n",
              "      <th>IG [109/L]_T1</th>\n",
              "      <th>NEUT %_T1</th>\n",
              "      <th>LYMPH %_T1</th>\n",
              "      <th>MONO %_T1</th>\n",
              "      <th>IG %_T1</th>\n",
              "      <th>ROS TO PMA (%)_T1</th>\n",
              "      <th>ROS TO PMA (MFI)_T1</th>\n",
              "      <th>CD62L (MedFI)_T1</th>\n",
              "      <th>CD88 (MedFI)_T1</th>\n",
              "      <th>CD16 (MedFI)...23_T1</th>\n",
              "      <th>CD11B (MedFI)_T1</th>\n",
              "      <th>CXCR1 (MedFI)_T1</th>\n",
              "      <th>CXCR2 (MedFI)_T1</th>\n",
              "      <th>CD11B + FMLF (MedFI)_T1</th>\n",
              "      <th>Increase_CD11b + fMLF (MedFI)_T1</th>\n",
              "      <th>CD63 (MedFI)_T1</th>\n",
              "      <th>CD62L + FMLF (MedFI)_T1</th>\n",
              "      <th>Decrease_CD62L + FMLF (MedFI)_T1</th>\n",
              "      <th>% CD16BRIGHT CD62LDIM_T1</th>\n",
              "      <th>CD16BRIGHT CD62LDIM [106/L]_T1</th>\n",
              "      <th>CD16 % +ve_T1</th>\n",
              "      <th>CD16 (MedFI)...35_T1</th>\n",
              "      <th>% CD14+ 16-_T1</th>\n",
              "      <th>% CD14+ 16+_T1</th>\n",
              "      <th>CD14+ 16- (x106/L)_T1</th>\n",
              "      <th>CD14+ 16+ (x106/L)_T1</th>\n",
              "      <th>% HLA-DR +ve_T1</th>\n",
              "      <th>HLA-DR (MedFI)_T1</th>\n",
              "      <th>% CD14+ HLA-DRLow/Neg_T1</th>\n",
              "      <th>CD14+ HLA-DRLow/Neg (x106/L)_T1</th>\n",
              "      <th>% TLR4 +ve_T1</th>\n",
              "      <th>TLR4 (MedFI)_T1</th>\n",
              "      <th>...</th>\n",
              "      <th>CD16 (MedFI)...27_T3</th>\n",
              "      <th>% CD14+ 16-_T3</th>\n",
              "      <th>% CD14+ 16+_T3</th>\n",
              "      <th>CD14+ 16- (x106/L)_T3</th>\n",
              "      <th>CD14+ 16+ (x106/L)_T3</th>\n",
              "      <th>% HLA-DR +ve_T3</th>\n",
              "      <th>HLA-DR (MedFI)_T3</th>\n",
              "      <th>% CD14+ HLA-DRLow/Neg_T3</th>\n",
              "      <th>CD14+ HLA-DRLow/Neg (x106/L)_T3</th>\n",
              "      <th>% TLR4 +ve_T3</th>\n",
              "      <th>TLR4 (MedFI)_T3</th>\n",
              "      <th>% TLR2 +ve_T3</th>\n",
              "      <th>TLR2 (MedFI)_T3</th>\n",
              "      <th>% CD86 +ve_T3</th>\n",
              "      <th>CD86 (MedFI)_T3</th>\n",
              "      <th>B cells (x106/L)_T3</th>\n",
              "      <th>NK cells (x106/L)_T3</th>\n",
              "      <th>CD56DIM NK cells (x106/L)_T3</th>\n",
              "      <th>CD56BRIGHT NK cells (x106/L)_T3</th>\n",
              "      <th>NKT cells (x106/L)_T3</th>\n",
              "      <th>CD3+ (106/L)_T3</th>\n",
              "      <th>CD3+ 4+ (106/L)_T3</th>\n",
              "      <th>Term_Helper_T3</th>\n",
              "      <th>Naive_Helper_T3</th>\n",
              "      <th>Central_Mem_Helper_T3</th>\n",
              "      <th>Eff_Mem_Helper_T3</th>\n",
              "      <th>CD3+ 8+ (106/L)_T3</th>\n",
              "      <th>Term_Cyto_T3</th>\n",
              "      <th>Naive_Cyto_T3</th>\n",
              "      <th>Central_Mem_Cyto_T3</th>\n",
              "      <th>Eff_Mem_Cyto_T3</th>\n",
              "      <th>IL1-Ra_T3</th>\n",
              "      <th>IL-6_T3</th>\n",
              "      <th>IL-8_T3</th>\n",
              "      <th>IL-10_T3</th>\n",
              "      <th>G-CSF_T3</th>\n",
              "      <th>MCP-1_T3</th>\n",
              "      <th>TNF-A_T3</th>\n",
              "      <th>Cortisol (ng/ml)_T3</th>\n",
              "      <th>Label</th>\n",
              "    </tr>\n",
              "  </thead>\n",
              "  <tbody>\n",
              "    <tr>\n",
              "      <th>0</th>\n",
              "      <td>11</td>\n",
              "      <td>11</td>\n",
              "      <td>97.21493</td>\n",
              "      <td>41</td>\n",
              "      <td>26.16</td>\n",
              "      <td>21.95</td>\n",
              "      <td>1.60</td>\n",
              "      <td>2.58</td>\n",
              "      <td>0.10</td>\n",
              "      <td>83.9</td>\n",
              "      <td>6.1</td>\n",
              "      <td>9.9</td>\n",
              "      <td>0.4</td>\n",
              "      <td>100.0</td>\n",
              "      <td>169153.0</td>\n",
              "      <td>16455.0</td>\n",
              "      <td>62388.0</td>\n",
              "      <td>32057.0</td>\n",
              "      <td>38432.0</td>\n",
              "      <td>10948.0</td>\n",
              "      <td>12099.0</td>\n",
              "      <td>126850.0</td>\n",
              "      <td>3.300635</td>\n",
              "      <td>972.0</td>\n",
              "      <td>1851.0</td>\n",
              "      <td>8.889789</td>\n",
              "      <td>4.2</td>\n",
              "      <td>922.00</td>\n",
              "      <td>3.0</td>\n",
              "      <td>0.0</td>\n",
              "      <td>98.48</td>\n",
              "      <td>1.52</td>\n",
              "      <td>2540.0</td>\n",
              "      <td>40.0</td>\n",
              "      <td>96.0</td>\n",
              "      <td>63.0</td>\n",
              "      <td>9.48</td>\n",
              "      <td>245.000</td>\n",
              "      <td>38.0</td>\n",
              "      <td>6.0</td>\n",
              "      <td>...</td>\n",
              "      <td>2.0</td>\n",
              "      <td>88.02</td>\n",
              "      <td>11.98</td>\n",
              "      <td>1223.0</td>\n",
              "      <td>167.0</td>\n",
              "      <td>89.0</td>\n",
              "      <td>41.0</td>\n",
              "      <td>22.56</td>\n",
              "      <td>314.000</td>\n",
              "      <td>15.0</td>\n",
              "      <td>3.0</td>\n",
              "      <td>100.0</td>\n",
              "      <td>120.0</td>\n",
              "      <td>97.0</td>\n",
              "      <td>35.0</td>\n",
              "      <td>124.0</td>\n",
              "      <td>557.0</td>\n",
              "      <td>544.0</td>\n",
              "      <td>13.0</td>\n",
              "      <td>19.0</td>\n",
              "      <td>1130.0</td>\n",
              "      <td>773.0</td>\n",
              "      <td>21.0</td>\n",
              "      <td>335.0</td>\n",
              "      <td>221.0</td>\n",
              "      <td>196.0</td>\n",
              "      <td>283.0</td>\n",
              "      <td>118.0</td>\n",
              "      <td>82.0</td>\n",
              "      <td>5.0</td>\n",
              "      <td>78.0</td>\n",
              "      <td>NaN</td>\n",
              "      <td>NaN</td>\n",
              "      <td>NaN</td>\n",
              "      <td>NaN</td>\n",
              "      <td>NaN</td>\n",
              "      <td>NaN</td>\n",
              "      <td>NaN</td>\n",
              "      <td>180.6876</td>\n",
              "      <td>N</td>\n",
              "    </tr>\n",
              "    <tr>\n",
              "      <th>1</th>\n",
              "      <td>9</td>\n",
              "      <td>22</td>\n",
              "      <td>99.59795</td>\n",
              "      <td>22</td>\n",
              "      <td>8.28</td>\n",
              "      <td>4.21</td>\n",
              "      <td>3.53</td>\n",
              "      <td>0.33</td>\n",
              "      <td>0.04</td>\n",
              "      <td>50.9</td>\n",
              "      <td>42.6</td>\n",
              "      <td>3.9</td>\n",
              "      <td>0.5</td>\n",
              "      <td>99.0</td>\n",
              "      <td>164974.0</td>\n",
              "      <td>19617.0</td>\n",
              "      <td>96814.0</td>\n",
              "      <td>152209.0</td>\n",
              "      <td>18353.0</td>\n",
              "      <td>13047.0</td>\n",
              "      <td>28100.0</td>\n",
              "      <td>105150.0</td>\n",
              "      <td>5.730000</td>\n",
              "      <td>2828.0</td>\n",
              "      <td>1030.0</td>\n",
              "      <td>19.050000</td>\n",
              "      <td>3.9</td>\n",
              "      <td>164.19</td>\n",
              "      <td>4.0</td>\n",
              "      <td>1.0</td>\n",
              "      <td>96.99</td>\n",
              "      <td>3.01</td>\n",
              "      <td>320.0</td>\n",
              "      <td>10.0</td>\n",
              "      <td>99.0</td>\n",
              "      <td>159.0</td>\n",
              "      <td>6.41</td>\n",
              "      <td>21.153</td>\n",
              "      <td>51.0</td>\n",
              "      <td>8.0</td>\n",
              "      <td>...</td>\n",
              "      <td>0.0</td>\n",
              "      <td>86.32</td>\n",
              "      <td>13.68</td>\n",
              "      <td>604.0</td>\n",
              "      <td>96.0</td>\n",
              "      <td>93.0</td>\n",
              "      <td>40.0</td>\n",
              "      <td>51.52</td>\n",
              "      <td>360.640</td>\n",
              "      <td>38.0</td>\n",
              "      <td>6.0</td>\n",
              "      <td>100.0</td>\n",
              "      <td>144.0</td>\n",
              "      <td>95.0</td>\n",
              "      <td>39.0</td>\n",
              "      <td>194.0</td>\n",
              "      <td>66.0</td>\n",
              "      <td>58.0</td>\n",
              "      <td>8.0</td>\n",
              "      <td>140.0</td>\n",
              "      <td>754.0</td>\n",
              "      <td>326.0</td>\n",
              "      <td>3.0</td>\n",
              "      <td>200.0</td>\n",
              "      <td>90.0</td>\n",
              "      <td>33.0</td>\n",
              "      <td>401.0</td>\n",
              "      <td>185.0</td>\n",
              "      <td>178.0</td>\n",
              "      <td>5.0</td>\n",
              "      <td>33.0</td>\n",
              "      <td>237.32</td>\n",
              "      <td>75.04</td>\n",
              "      <td>66.47</td>\n",
              "      <td>59.20</td>\n",
              "      <td>88.73</td>\n",
              "      <td>2.89</td>\n",
              "      <td>39.96</td>\n",
              "      <td>133.6386</td>\n",
              "      <td>Y</td>\n",
              "    </tr>\n",
              "    <tr>\n",
              "      <th>2</th>\n",
              "      <td>14</td>\n",
              "      <td>17</td>\n",
              "      <td>99.10462</td>\n",
              "      <td>47</td>\n",
              "      <td>9.24</td>\n",
              "      <td>4.52</td>\n",
              "      <td>3.73</td>\n",
              "      <td>0.45</td>\n",
              "      <td>0.16</td>\n",
              "      <td>49.0</td>\n",
              "      <td>40.3</td>\n",
              "      <td>4.9</td>\n",
              "      <td>1.7</td>\n",
              "      <td>68.0</td>\n",
              "      <td>21583.0</td>\n",
              "      <td>25915.0</td>\n",
              "      <td>76704.0</td>\n",
              "      <td>144836.0</td>\n",
              "      <td>34093.0</td>\n",
              "      <td>16501.0</td>\n",
              "      <td>19732.0</td>\n",
              "      <td>105097.0</td>\n",
              "      <td>3.100000</td>\n",
              "      <td>2974.0</td>\n",
              "      <td>4009.0</td>\n",
              "      <td>6.464206</td>\n",
              "      <td>4.7</td>\n",
              "      <td>212.44</td>\n",
              "      <td>NaN</td>\n",
              "      <td>NaN</td>\n",
              "      <td>NaN</td>\n",
              "      <td>NaN</td>\n",
              "      <td>NaN</td>\n",
              "      <td>NaN</td>\n",
              "      <td>NaN</td>\n",
              "      <td>NaN</td>\n",
              "      <td>NaN</td>\n",
              "      <td>NaN</td>\n",
              "      <td>NaN</td>\n",
              "      <td>NaN</td>\n",
              "      <td>...</td>\n",
              "      <td>NaN</td>\n",
              "      <td>NaN</td>\n",
              "      <td>NaN</td>\n",
              "      <td>NaN</td>\n",
              "      <td>NaN</td>\n",
              "      <td>NaN</td>\n",
              "      <td>NaN</td>\n",
              "      <td>NaN</td>\n",
              "      <td>NaN</td>\n",
              "      <td>NaN</td>\n",
              "      <td>NaN</td>\n",
              "      <td>NaN</td>\n",
              "      <td>NaN</td>\n",
              "      <td>NaN</td>\n",
              "      <td>NaN</td>\n",
              "      <td>NaN</td>\n",
              "      <td>NaN</td>\n",
              "      <td>NaN</td>\n",
              "      <td>NaN</td>\n",
              "      <td>NaN</td>\n",
              "      <td>NaN</td>\n",
              "      <td>NaN</td>\n",
              "      <td>NaN</td>\n",
              "      <td>NaN</td>\n",
              "      <td>NaN</td>\n",
              "      <td>NaN</td>\n",
              "      <td>NaN</td>\n",
              "      <td>NaN</td>\n",
              "      <td>NaN</td>\n",
              "      <td>NaN</td>\n",
              "      <td>NaN</td>\n",
              "      <td>179.18</td>\n",
              "      <td>34.76</td>\n",
              "      <td>58.45</td>\n",
              "      <td>171.43</td>\n",
              "      <td>84.37</td>\n",
              "      <td>0.01</td>\n",
              "      <td>85.15</td>\n",
              "      <td>181.1892</td>\n",
              "      <td>N</td>\n",
              "    </tr>\n",
              "    <tr>\n",
              "      <th>3</th>\n",
              "      <td>4</td>\n",
              "      <td>12</td>\n",
              "      <td>99.85114</td>\n",
              "      <td>38</td>\n",
              "      <td>11.54</td>\n",
              "      <td>6.37</td>\n",
              "      <td>4.18</td>\n",
              "      <td>0.65</td>\n",
              "      <td>0.09</td>\n",
              "      <td>55.2</td>\n",
              "      <td>36.2</td>\n",
              "      <td>5.6</td>\n",
              "      <td>0.8</td>\n",
              "      <td>95.0</td>\n",
              "      <td>75144.0</td>\n",
              "      <td>25272.0</td>\n",
              "      <td>103145.0</td>\n",
              "      <td>182530.0</td>\n",
              "      <td>15346.0</td>\n",
              "      <td>17521.0</td>\n",
              "      <td>28698.0</td>\n",
              "      <td>59486.0</td>\n",
              "      <td>3.880000</td>\n",
              "      <td>4298.0</td>\n",
              "      <td>NaN</td>\n",
              "      <td>NaN</td>\n",
              "      <td>3.6</td>\n",
              "      <td>229.32</td>\n",
              "      <td>16.0</td>\n",
              "      <td>1.0</td>\n",
              "      <td>87.61</td>\n",
              "      <td>12.39</td>\n",
              "      <td>570.0</td>\n",
              "      <td>80.0</td>\n",
              "      <td>99.0</td>\n",
              "      <td>249.0</td>\n",
              "      <td>9.58</td>\n",
              "      <td>62.270</td>\n",
              "      <td>64.0</td>\n",
              "      <td>11.0</td>\n",
              "      <td>...</td>\n",
              "      <td>0.0</td>\n",
              "      <td>84.68</td>\n",
              "      <td>14.88</td>\n",
              "      <td>570.0</td>\n",
              "      <td>100.0</td>\n",
              "      <td>87.0</td>\n",
              "      <td>29.0</td>\n",
              "      <td>69.35</td>\n",
              "      <td>464.645</td>\n",
              "      <td>48.0</td>\n",
              "      <td>8.0</td>\n",
              "      <td>100.0</td>\n",
              "      <td>173.0</td>\n",
              "      <td>77.0</td>\n",
              "      <td>41.0</td>\n",
              "      <td>NaN</td>\n",
              "      <td>NaN</td>\n",
              "      <td>NaN</td>\n",
              "      <td>NaN</td>\n",
              "      <td>NaN</td>\n",
              "      <td>416.0</td>\n",
              "      <td>257.0</td>\n",
              "      <td>3.0</td>\n",
              "      <td>93.0</td>\n",
              "      <td>97.0</td>\n",
              "      <td>64.0</td>\n",
              "      <td>130.0</td>\n",
              "      <td>20.0</td>\n",
              "      <td>45.0</td>\n",
              "      <td>27.0</td>\n",
              "      <td>38.0</td>\n",
              "      <td>1643.40</td>\n",
              "      <td>1353.66</td>\n",
              "      <td>193.49</td>\n",
              "      <td>2100.26</td>\n",
              "      <td>292.98</td>\n",
              "      <td>646.47</td>\n",
              "      <td>1267.07</td>\n",
              "      <td>194.7159</td>\n",
              "      <td>N</td>\n",
              "    </tr>\n",
              "    <tr>\n",
              "      <th>4</th>\n",
              "      <td>24</td>\n",
              "      <td>34</td>\n",
              "      <td>87.32603</td>\n",
              "      <td>78</td>\n",
              "      <td>17.43</td>\n",
              "      <td>12.48</td>\n",
              "      <td>3.46</td>\n",
              "      <td>1.10</td>\n",
              "      <td>0.38</td>\n",
              "      <td>71.7</td>\n",
              "      <td>19.8</td>\n",
              "      <td>6.3</td>\n",
              "      <td>2.2</td>\n",
              "      <td>100.0</td>\n",
              "      <td>186728.0</td>\n",
              "      <td>19220.0</td>\n",
              "      <td>47484.0</td>\n",
              "      <td>152384.0</td>\n",
              "      <td>83069.0</td>\n",
              "      <td>13416.0</td>\n",
              "      <td>11981.0</td>\n",
              "      <td>135886.0</td>\n",
              "      <td>1.635821</td>\n",
              "      <td>1003.0</td>\n",
              "      <td>2627.0</td>\n",
              "      <td>7.316330</td>\n",
              "      <td>17.5</td>\n",
              "      <td>2184.00</td>\n",
              "      <td>5.0</td>\n",
              "      <td>0.0</td>\n",
              "      <td>95.36</td>\n",
              "      <td>4.64</td>\n",
              "      <td>1049.0</td>\n",
              "      <td>51.0</td>\n",
              "      <td>99.0</td>\n",
              "      <td>178.0</td>\n",
              "      <td>7.48</td>\n",
              "      <td>82.000</td>\n",
              "      <td>45.0</td>\n",
              "      <td>8.0</td>\n",
              "      <td>...</td>\n",
              "      <td>0.0</td>\n",
              "      <td>84.76</td>\n",
              "      <td>15.24</td>\n",
              "      <td>704.0</td>\n",
              "      <td>126.0</td>\n",
              "      <td>76.0</td>\n",
              "      <td>27.0</td>\n",
              "      <td>57.60</td>\n",
              "      <td>478.000</td>\n",
              "      <td>33.0</td>\n",
              "      <td>5.0</td>\n",
              "      <td>100.0</td>\n",
              "      <td>129.0</td>\n",
              "      <td>91.0</td>\n",
              "      <td>35.0</td>\n",
              "      <td>168.0</td>\n",
              "      <td>157.0</td>\n",
              "      <td>153.0</td>\n",
              "      <td>4.0</td>\n",
              "      <td>13.0</td>\n",
              "      <td>777.0</td>\n",
              "      <td>591.0</td>\n",
              "      <td>2.0</td>\n",
              "      <td>188.0</td>\n",
              "      <td>311.0</td>\n",
              "      <td>90.0</td>\n",
              "      <td>193.0</td>\n",
              "      <td>27.0</td>\n",
              "      <td>19.0</td>\n",
              "      <td>80.0</td>\n",
              "      <td>67.0</td>\n",
              "      <td>NaN</td>\n",
              "      <td>NaN</td>\n",
              "      <td>NaN</td>\n",
              "      <td>NaN</td>\n",
              "      <td>NaN</td>\n",
              "      <td>NaN</td>\n",
              "      <td>NaN</td>\n",
              "      <td>259.6209</td>\n",
              "      <td>Y</td>\n",
              "    </tr>\n",
              "  </tbody>\n",
              "</table>\n",
              "<p>5 rows × 197 columns</p>\n",
              "</div>"
            ],
            "text/plain": [
              "   ISS  NISS      PS14  Age  ...  MCP-1_T3  TNF-A_T3  Cortisol (ng/ml)_T3  Label\n",
              "0   11    11  97.21493   41  ...       NaN       NaN             180.6876      N\n",
              "1    9    22  99.59795   22  ...      2.89     39.96             133.6386      Y\n",
              "2   14    17  99.10462   47  ...      0.01     85.15             181.1892      N\n",
              "3    4    12  99.85114   38  ...    646.47   1267.07             194.7159      N\n",
              "4   24    34  87.32603   78  ...       NaN       NaN             259.6209      Y\n",
              "\n",
              "[5 rows x 197 columns]"
            ]
          },
          "metadata": {},
          "execution_count": 12
        }
      ]
    },
    {
      "cell_type": "code",
      "metadata": {
        "colab": {
          "base_uri": "https://localhost:8080/"
        },
        "id": "_cR5EFuLYPG1",
        "outputId": "69a36fe1-5c13-4995-b6ac-d38562c5e934"
      },
      "source": [
        "ds2.shape"
      ],
      "execution_count": 13,
      "outputs": [
        {
          "output_type": "execute_result",
          "data": {
            "text/plain": [
              "(61, 197)"
            ]
          },
          "metadata": {},
          "execution_count": 13
        }
      ]
    },
    {
      "cell_type": "markdown",
      "metadata": {
        "id": "eHL6_DwqYU6H"
      },
      "source": [
        "**features:** 197"
      ]
    },
    {
      "cell_type": "markdown",
      "metadata": {
        "id": "nWRVnx6CYUqO"
      },
      "source": [
        "**Rows:** 61"
      ]
    },
    {
      "cell_type": "code",
      "metadata": {
        "colab": {
          "base_uri": "https://localhost:8080/"
        },
        "id": "33J9vsFGYVbI",
        "outputId": "53fafd55-66af-4004-f45a-65935adeeafa"
      },
      "source": [
        "ds2.info()"
      ],
      "execution_count": 14,
      "outputs": [
        {
          "output_type": "stream",
          "name": "stdout",
          "text": [
            "<class 'pandas.core.frame.DataFrame'>\n",
            "RangeIndex: 61 entries, 0 to 60\n",
            "Columns: 197 entries, ISS to Label\n",
            "dtypes: float64(186), int64(10), object(1)\n",
            "memory usage: 94.0+ KB\n"
          ]
        }
      ]
    },
    {
      "cell_type": "code",
      "metadata": {
        "colab": {
          "base_uri": "https://localhost:8080/"
        },
        "id": "9hqc5_6lYiFl",
        "outputId": "590159c3-1de9-43ac-e759-8ce28232121c"
      },
      "source": [
        "ds2.duplicated().any()"
      ],
      "execution_count": 15,
      "outputs": [
        {
          "output_type": "execute_result",
          "data": {
            "text/plain": [
              "False"
            ]
          },
          "metadata": {},
          "execution_count": 15
        }
      ]
    },
    {
      "cell_type": "code",
      "metadata": {
        "colab": {
          "base_uri": "https://localhost:8080/"
        },
        "id": "PQ3QsEuaYoJ4",
        "outputId": "fb8ea7cc-4a00-4c2b-cf21-84ea87225354"
      },
      "source": [
        "ds2.isna().any()"
      ],
      "execution_count": 16,
      "outputs": [
        {
          "output_type": "execute_result",
          "data": {
            "text/plain": [
              "ISS                    False\n",
              "NISS                   False\n",
              "PS14                   False\n",
              "Age                    False\n",
              "WBC [109/L]_T1          True\n",
              "                       ...  \n",
              "G-CSF_T3                True\n",
              "MCP-1_T3                True\n",
              "TNF-A_T3                True\n",
              "Cortisol (ng/ml)_T3    False\n",
              "Label                  False\n",
              "Length: 197, dtype: bool"
            ]
          },
          "metadata": {},
          "execution_count": 16
        }
      ]
    },
    {
      "cell_type": "markdown",
      "metadata": {
        "id": "wHsxwHxmY2qR"
      },
      "source": [
        "The dataset has lots of missing values and this may take a lot of digging to impute the data."
      ]
    }
  ]
}